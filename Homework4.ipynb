{
 "cells": [
  {
   "cell_type": "markdown",
   "metadata": {},
   "source": [
    "# Homework Set 4"
   ]
  },
  {
   "cell_type": "code",
   "execution_count": 1,
   "metadata": {},
   "outputs": [
    {
     "name": "stdout",
     "output_type": "stream",
     "text": [
      "Populating the interactive namespace from numpy and matplotlib\n"
     ]
    }
   ],
   "source": [
    "%pylab inline \n",
    "import pandas as pd\n",
    "import inst, fmt"
   ]
  },
  {
   "cell_type": "markdown",
   "metadata": {},
   "source": [
    "## Problem 1: \n",
    "\n",
    "Implement the Thomas algorithm for solving tridiagonal linear systems:\n",
    "\n",
    "Do your own reading and research on <a href=http://en.wikipedia.org/wiki/Tridiagonal_matrix_algorithm>Thomas algorithm</a> and implement and test it in Python."
   ]
  },
  {
   "cell_type": "markdown",
   "metadata": {},
   "source": [
    "## Problem 2\n",
    "\n",
    "Given the following benchmark swap quotes for USD, suppose all swap coupons are paid semi-annually:"
   ]
  },
  {
   "cell_type": "code",
   "execution_count": 2,
   "metadata": {},
   "outputs": [
    {
     "data": {
      "text/html": [
       "<center><font size=2><table border=\"1\" class=\"dataframe\">\n",
       "  <thead>\n",
       "    <tr style=\"text-align: right;\">\n",
       "      <th></th>\n",
       "      <th>1Y</th>\n",
       "      <th>2Y</th>\n",
       "      <th>3Y</th>\n",
       "      <th>5Y</th>\n",
       "      <th>7Y</th>\n",
       "      <th>10Y</th>\n",
       "      <th>12Y</th>\n",
       "      <th>15Y</th>\n",
       "      <th>20Y</th>\n",
       "      <th>25Y</th>\n",
       "    </tr>\n",
       "  </thead>\n",
       "  <tbody>\n",
       "    <tr>\n",
       "      <th>Par Rate (%)</th>\n",
       "      <td>4.2</td>\n",
       "      <td>4.3</td>\n",
       "      <td>4.7</td>\n",
       "      <td>5.4</td>\n",
       "      <td>5.7</td>\n",
       "      <td>6.0</td>\n",
       "      <td>6.1</td>\n",
       "      <td>5.9</td>\n",
       "      <td>5.6</td>\n",
       "      <td>5.5</td>\n",
       "    </tr>\n",
       "  </tbody>\n",
       "</table></font></center>"
      ],
      "text/plain": [
       "<IPython.core.display.HTML object>"
      ]
     },
     "metadata": {},
     "output_type": "display_data"
    }
   ],
   "source": [
    "mats = np.array([1, 2, 3, 5, 7, 10, 12, 15, 20, 25])*1.\n",
    "par = np.array([.042, .043, .047, .054, .057, .06, .061, .059, .056, .0555])\n",
    "\n",
    "df_swap = pd.DataFrame(np.array([par]).T*100, columns=[\"Par Rate (%)\"], \n",
    "                       index=map(lambda m: '%dY' % m, mats))\n",
    "fmt.displayDF(df_swap.T, 2, 2)"
   ]
  },
  {
   "cell_type": "markdown",
   "metadata": {},
   "source": [
    "The swap pricers are provided by the python class ```Swap``` and the pricing function ```priceSwap```, both are defined in <a href=https://raw.githubusercontent.com/yadongli/nyumath2048/master/lib/swap.py>swap.py</a> under the folder nyumath2048/lib of the github repository.\n",
    "\n",
    "Note the following assumptions of the swap pricer provided:\n",
    "* it prices a receiver swap, you need to flip the sign to price a payer swap\n",
    "* it ignores important details, such as day count conventions, do not use this code to trade!\n",
    "\n",
    "The following are some sample codes of how to use the swap pricers:"
   ]
  },
  {
   "cell_type": "code",
   "execution_count": 4,
   "metadata": {},
   "outputs": [
    {
     "name": "stdout",
     "output_type": "stream",
     "text": [
      "PV by maturity\n",
      "1 Y : 0.00155\n",
      "2 Y : 0.004943\n",
      "3 Y : 0.01846\n",
      "5 Y : 0.06101\n",
      "7 Y : 0.1003\n",
      "10 Y : 0.1599\n",
      "12 Y : 0.1943\n",
      "15 Y : 0.2077\n",
      "20 Y : 0.2126\n",
      "25 Y : 0.2362\n"
     ]
    }
   ],
   "source": [
    "from swap import Swap, priceSwap\n",
    "import lin\n",
    "\n",
    "# the pricing function if curve(t) is the cumulative yield, ie, -log(b(t))\n",
    "def y2pv(swap, curve) :\n",
    "    discf = lambda ts: np.exp(-curve(ts))\n",
    "    return priceSwap(swap, discf)\n",
    "\n",
    "# create the benchmark instruments\n",
    "bm_swaps = {Swap(m, c, 2) : 0 for m, c in zip (mats, par)}\n",
    "\n",
    "# price a single swap with a straight curve in y(t)\n",
    "flat = lin.RationalTension(lbd = 5.)\n",
    "flat.build(mats, mats*.04) # create a dummy curve of flat 0.04 rate\n",
    "\n",
    "pvs = {swap.maturity : y2pv(swap, flat) for swap in bm_swaps.keys()}\n",
    "print(\"PV by maturity\")\n",
    "print(\"\\n\".join([\"%.2g Y : %.4g\" % (m, v) for m, v in pvs.items()]))"
   ]
  },
  {
   "cell_type": "markdown",
   "metadata": {},
   "source": [
    "1. Explain what is the purpose of the +1e-6 in the first line of the ```priceSwap``` function\n",
    "2. Use the market data above to bootstrap the IR curve by interpolating the cumulative yield $y(t) = -\\log(b(t))$ with tension spline, where $b(t)$ is the discount factor (i.e., the price of risk free zero coupon bonds). After bootstrapping the curve, re-price the benchmark instruments using the bootstrapped curve, and compute the L-2 norm of the absolute pricing errors. Show how the pricing error of the bootstrapped curve depend on the tension parameter $\\lambda$.\n",
    "3. Using the iteration technique to reduce the L-2 norm of the error below 1bps, how many iteration is needed for the error to go below 1bps?\n",
    "4. From the curve built in the previous step, compute both the $y(t)$ and the instantaneous forward rate $f(t) = -\\frac{1}{b(t)}\\frac{d b(t)}{d t} = \\frac{d y(t)}{dt}$, and show how their shapes change with the tension parameter $\\lambda$. In addition, compare the changes in the instantaneous forward rates with 1bps change in the 5Y par swap rate. You can use the ```deriv()``` method in the Tension spline class. \n",
    "6. Repeat the previous step, but directly interpolating the forward rates $f(t)$, and comment on whether it is suitable in practice.\n",
    "5. [extra credit] Build the curve by interpolating the zero rate with tension spline instead, i.e, $r(t) = \\frac{y(t)}{t}$, compare how the forward rates shape and perturbations differ from those obtained in step 4, and comment on the pro and cons between interpolating $r(t)$ and $y(t)$.\n",
    "7. [extra credit] write your own bootstrap function instead of calling those provided by the class library\n",
    "\n",
    "Hint: \n",
    "* write your code in a modular and reusable way; you can re-use the code provided as part of the class lecture, but you get extra credit if you can write your own bootstrapping. The source code of the inst package is hidden from you, but you can figure out how to use them by reading their docstring with ```help()```, please use the python codes in the lecture slides as examples.\n",
    "* be careful with the choice of boundary for the root search, allow negative rates often helps stabilizing the bootstrapping, even though it does not make economic sense\n",
    "* in step 5, you may have to mix the old and new results to stabilize the iteration, (e.g., use ```mixf=0.5``` in the ```inst.iterboot``` function, or your own)"
   ]
  }
 ],
 "metadata": {
  "kernelspec": {
   "display_name": "Python 3",
   "language": "python",
   "name": "python3"
  },
  "language_info": {
   "codemirror_mode": {
    "name": "ipython",
    "version": 3
   },
   "file_extension": ".py",
   "mimetype": "text/x-python",
   "name": "python",
   "nbconvert_exporter": "python",
   "pygments_lexer": "ipython3",
   "version": "3.6.1"
  }
 },
 "nbformat": 4,
 "nbformat_minor": 1
}
