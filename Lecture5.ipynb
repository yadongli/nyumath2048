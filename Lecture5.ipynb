{
 "cells": [
  {
   "cell_type": "markdown",
   "metadata": {
    "slideshow": {
     "slide_type": "slide"
    }
   },
   "source": [
    "# Lecture 5: Deltas and Hedging\n",
    "\n",
    "Topics:\n",
    "\n",
    "* Derivatives, Deltas and Hedging \n",
    "* Risk transformation\n",
    "* Hedge Optimization\n",
    "* Brownian Bridge\n",
    "* Numerical integration"
   ]
  },
  {
   "cell_type": "code",
   "execution_count": 20,
   "metadata": {
    "slideshow": {
     "slide_type": "skip"
    }
   },
   "outputs": [
    {
     "name": "stdout",
     "output_type": "stream",
     "text": [
      "Populating the interactive namespace from numpy and matplotlib\n"
     ]
    },
    {
     "name": "stderr",
     "output_type": "stream",
     "text": [
      "/opt/anaconda3/lib/python3.6/site-packages/IPython/core/magics/pylab.py:161: UserWarning: pylab import has clobbered these variables: ['f', 'cov']\n",
      "`%matplotlib` prevents importing * from pylab and numpy\n",
      "  \"\\n`%matplotlib` prevents importing * from pylab and numpy\"\n"
     ]
    }
   ],
   "source": [
    "%pylab inline\n",
    "\n",
    "import numpy as np\n",
    "import pandas as pd\n",
    "import inst \n",
    "import fmt\n",
    "\n",
    "lecture = 5"
   ]
  },
  {
   "cell_type": "markdown",
   "metadata": {
    "slideshow": {
     "slide_type": "slide"
    }
   },
   "source": [
    "# Derivatives, Deltas and Hedging\n",
    "\n",
    "Judd Gregg: Derivatives are a huge, complex issue."
   ]
  },
  {
   "cell_type": "markdown",
   "metadata": {
    "slideshow": {
     "slide_type": "subslide"
    }
   },
   "source": [
    "## Finite difference\n",
    "\n",
    "The derivative of a smooth function $f(t)$ can be approximated numerically by finite difference schemes:\n",
    "\n",
    "* Forward difference: $\\frac{df(x)}{dx} \\approx \\frac{f(x+\\epsilon) - f(x)}{\\epsilon} + O(\\epsilon)$\n",
    "* Backward difference: $\\frac{df(x)}{dx} \\approx \\frac{f(x) - f(x-\\epsilon)}{\\epsilon} + O(\\epsilon)$\n",
    "* Central difference: $\\frac{df(x)}{dx} \\approx \\frac{f(x+\\epsilon) - f(x-\\epsilon)}{2\\epsilon} + O(\\epsilon^2)$\n",
    "* 2nd order derivative: $\\frac{d^2f(x)}{dx^2} \\approx \\frac{f(x+\\epsilon) - 2f(x) + f(x-\\epsilon)}{\\epsilon^2} + O(\\epsilon^2)$\n",
    "\n",
    "\n",
    "Central scheme has higher order of accuracy, requires two valuations of $f$.\n",
    "* The accuracy of finite difference schemes can be verified via Taylor expansions."
   ]
  },
  {
   "cell_type": "markdown",
   "metadata": {
    "slideshow": {
     "slide_type": "subslide"
    }
   },
   "source": [
    "## Generic pricing function\n",
    "\n",
    "A pricing function can be written very generically as: $\\renewcommand{bs}{\\boldsymbol} v = v(\\bs i, \\bs m, \\bs c, t)$, the inputs are:\n",
    "\n",
    "* $\\bs i$: the instrument itself, such as maturity, coupon rate etc\n",
    "* $\\bs m$: market environment, such as IR, CDS, FX rate etc\n",
    "* $\\bs c$: model parameters and assumptions, \n",
    "  * static parameters, e.g.: the tension spline parameter $\\lambda$ \n",
    "  * parameters calibrated to market inputs, e.g.: implied vol\n",
    "* $t$: time"
   ]
  },
  {
   "cell_type": "markdown",
   "metadata": {
    "slideshow": {
     "slide_type": "fragment"
    }
   },
   "source": [
    "The pricing function can be viewed as an interpolator."
   ]
  },
  {
   "cell_type": "markdown",
   "metadata": {
    "slideshow": {
     "slide_type": "subslide"
    }
   },
   "source": [
    "## Greeks\n",
    "\n",
    "The following terminologies are often used in practice\n",
    "* Delta: 1st order derivative to market environments: $\\bs \\delta = \\frac{\\partial v}{\\partial \\bs m}$\n",
    " * Delta is a vector of size $m$\n",
    " * Deltas are in the unit of currency\n",
    "* Gamma: 2nd order derivatives to market environments: $\\Gamma = \\frac{\\partial \\bs \\delta}{\\partial \\bs m}$\n",
    " * Gamma is a $m \\times m$ matrix that includes all cross gammas\n",
    "* Theta: $\\theta = \\frac{\\partial v}{\\partial t}$\n",
    "* Delta is also defined for certain common model parameters:\n",
    " * Vega: derivative to implied volatility"
   ]
  },
  {
   "cell_type": "markdown",
   "metadata": {
    "slideshow": {
     "slide_type": "subslide"
    }
   },
   "source": [
    "## How to compute Deltas\n",
    "\n",
    "Deltas are often computed by brute force\n",
    "  * bump, recalibrate (curves & other model parameters), revalue\n",
    "  * slow, but generic and robust\n",
    "  \n",
    "Advanced method of computing Delta\n",
    "  * automatic algorithmic differentiation (AAD)\n",
    "  * Jacobian inversion"
   ]
  },
  {
   "cell_type": "markdown",
   "metadata": {
    "slideshow": {
     "slide_type": "subslide"
    }
   },
   "source": [
    "## Dynamic hedging\n",
    "\n",
    "The purpose of dynamic hedging is to remove the unwanted risks:\n",
    "\n",
    "* Compute Deltas to all relevant market risk factors\n",
    "* Aggregate the risk sensitivities to the portfolio level\n",
    "* Put on hedges that neutralize the portfolio's sensitivities to unwanted risk factors\n",
    "* The hedges are rebalanced frequently\n",
    "* Dynamic hedging allows a market maker to trade and risk manage illiquid derivatives\n",
    "* Risk managers impose limits on deltas to key risk factors"
   ]
  },
  {
   "cell_type": "markdown",
   "metadata": {
    "slideshow": {
     "slide_type": "subslide"
    }
   },
   "source": [
    "## PnL explain:\n",
    "\n",
    "* Attribute daily PnL to market risk factor changes\n",
    "* A critical step for a trading desk's operation in practice\n",
    "\n",
    "At a very high level, the PnL explain is the total derivative:\n",
    "\n",
    "$$\\renewcommand{bs}{\\boldsymbol}  d v = \\frac{\\partial v}{\\partial \\bs i} d \\bs i + \\frac{\\partial v}{\\partial \\bs m} d \\bs m + \\frac{\\partial v}{\\partial \\bs c} d \\bs c + \\frac{\\partial v}{\\partial t} dt $$\n",
    "\n",
    "* if the two sides differ a lot, the dynamic hedging is not working\n",
    "* on a normal day, the explained PnL should be more than 90%"
   ]
  },
  {
   "cell_type": "markdown",
   "metadata": {
    "slideshow": {
     "slide_type": "subslide"
    }
   },
   "source": [
    "## A Delta hedging example\n",
    "\n",
    "Given the following liquid benchmark CDS quotes of an issuer:"
   ]
  },
  {
   "cell_type": "code",
   "execution_count": 21,
   "metadata": {},
   "outputs": [
    {
     "data": {
      "text/html": [
       "<center><font size=2><table border=\"1\" class=\"dataframe\">\n",
       "  <thead>\n",
       "    <tr style=\"text-align: right;\">\n",
       "      <th>Maturity (Y)</th>\n",
       "      <th>0.25</th>\n",
       "      <th>0.5</th>\n",
       "      <th>1.0</th>\n",
       "      <th>2.0</th>\n",
       "      <th>3.0</th>\n",
       "      <th>5.0</th>\n",
       "      <th>7.0</th>\n",
       "      <th>10.0</th>\n",
       "    </tr>\n",
       "  </thead>\n",
       "  <tbody>\n",
       "    <tr>\n",
       "      <th>Coupon(bps)</th>\n",
       "      <td>100</td>\n",
       "      <td>100</td>\n",
       "      <td>100</td>\n",
       "      <td>100</td>\n",
       "      <td>100</td>\n",
       "      <td>100</td>\n",
       "      <td>100</td>\n",
       "      <td>100</td>\n",
       "    </tr>\n",
       "    <tr>\n",
       "      <th>PV (% Points)</th>\n",
       "      <td>0.04965</td>\n",
       "      <td>0.0742</td>\n",
       "      <td>0.04909</td>\n",
       "      <td>-1.038</td>\n",
       "      <td>-3.42</td>\n",
       "      <td>-12.26</td>\n",
       "      <td>-19.57</td>\n",
       "      <td>-27.34</td>\n",
       "    </tr>\n",
       "    <tr>\n",
       "      <th>Quoted Spread(bps)</th>\n",
       "      <td>80</td>\n",
       "      <td>85</td>\n",
       "      <td>95</td>\n",
       "      <td>154</td>\n",
       "      <td>222</td>\n",
       "      <td>385</td>\n",
       "      <td>451</td>\n",
       "      <td>480</td>\n",
       "    </tr>\n",
       "  </tbody>\n",
       "</table></font></center>"
      ],
      "text/plain": [
       "<IPython.core.display.HTML object>"
      ]
     },
     "metadata": {},
     "output_type": "display_data"
    }
   ],
   "source": [
    "ir_rate = 0.02\n",
    "disc = inst.FlatCurve(ir_rate)\n",
    "\n",
    "terms = np.array([.25, .5, 1., 2, 3, 5, 7, 10])\n",
    "qs = np.array([80, 85, 95, 154, 222, 385, 451, 480])\n",
    "\n",
    "cps = np.ones(len(terms))*100\n",
    "insts = [inst.CDS(m, c*1e-4, .4) for m, c in zip(terms, cps)]\n",
    "\n",
    "#compute the upfront PV of the benchmark instruments\n",
    "ufr = np.array([i.pv01(disc, inst.FlatCurve(f*1e-4))*(c-f)*1e-4 for i, f, c in zip(insts, qs, cps)])\n",
    "\n",
    "mat_tag = 'Maturity (Y)'\n",
    "\n",
    "cds_data = pd.DataFrame({mat_tag:terms, 'Coupon(bps)':cps, 'Quoted Spread(bps)':qs, \n",
    "                         'PV (% Points)': ufr*100.}).set_index(mat_tag)\n",
    "fmt.displayDF(cds_data.T, \"4g\")\n",
    "benchmarks = dict(zip(insts, ufr))\n",
    "\n",
    "lbdm = 10"
   ]
  },
  {
   "cell_type": "markdown",
   "metadata": {},
   "source": [
    "How to hedge the risk of a long $10MM, 4.5Y, 500bps coupon CDS position?\n",
    "\n",
    "We make the following assumptions:\n",
    "* the interest rate is always a flat curve\n",
    "  * there is a liquid 5Y zero coupon bond in the market\n",
    "* the CDS curve is built using a tension spline with $\\lambda = 10$"
   ]
  },
  {
   "cell_type": "markdown",
   "metadata": {
    "slideshow": {
     "slide_type": "subslide"
    }
   },
   "source": [
    "## Why spreads?\n",
    "\n",
    "The market trades in prices but market participants communicate in spreads:\n",
    "\n",
    "| Instruments | Quotes |\n",
    "| :---: | :----: |\n",
    "| Bond | yield, z-spread, BCDS, OAS |\n",
    "| Options | implied vol |\n",
    "| CDS | quoted spread, par spread |\n",
    "| ABS/MBS/CLO | discount margin |\n",
    "\n",
    "**PV01** : the ratio of PV changes in bps over 1bps spread change\n",
    "\n",
    "The advantages of spread over price includes:\n",
    "* free of the dirty/clean price ambiguity\n",
    "* comparable between different instruments\n",
    "* spreads are annualized, stable over time\n",
    "  * price of bonds will pull to par at maturity"
   ]
  },
  {
   "cell_type": "markdown",
   "metadata": {
    "slideshow": {
     "slide_type": "subslide"
    }
   },
   "source": [
    "## Replicating and hedging portfolio\n",
    "\n",
    "Given: \n",
    "\n",
    "* $v$ is the PV of the trade or portfolio to be hedged\n",
    "* $\\bs b$ is a vector of benchmark instruments' **PV**s \n",
    "  * $\\bs b$ is usually in unit notional, by convention\n",
    "* $\\bs q$ is the vector of benchmark quotes, usually in **spreads** \n",
    "  * e.g. the quoted spreads for CDS, par swaps for rates etc\n",
    "\n",
    "The replicating portfolio $\\bs h^T \\bs b$ is a benchmark portfolio that has identical first order risk to $v$: \n",
    "\n",
    "$$\\frac{\\partial v}{\\partial \\bs q}  = \\frac{\\partial (\\bs h^T \\bs b)}{\\partial \\bs q} = \\bs h^T  \\frac{\\partial \\bs b}{\\partial \\bs q} \\iff \\bs h^T = \\frac{\\partial v}{\\partial \\bs q} (\\frac{\\partial \\bs b}{\\partial \\bs q})^{-1} $$"
   ]
  },
  {
   "cell_type": "markdown",
   "metadata": {
    "slideshow": {
     "slide_type": "subslide"
    }
   },
   "source": [
    "Or more directly:\n",
    "\n",
    "$$\n",
    "\\bs h^T = \\frac{\\partial v}{\\partial \\bs b} = \\frac{\\partial v}{\\partial \\bs q}\\frac{\\partial \\bs q}{\\partial \\bs b} = \\frac{\\partial v}{\\partial \\bs q}(\\frac{\\partial \\bs b}{\\partial \\bs q})^{-1}\n",
    "$$\n",
    "\n",
    "* $\\frac{\\partial v}{\\partial \\bs q}$ are the Deltas of the bespoke instrument\n",
    "* $\\frac{\\partial \\bs b}{\\partial \\bs q}$ are the Deltas of the benchmark instruments.\n",
    "\n",
    "$-\\bs h^T \\bs b$ is the portfolio to neutralize all the first order risks, commonly referred as the hedging portfolio.\n",
    "\n",
    "* this equation is the core of a market maker's operation\n",
    "* we can trade illiquid instrument and hedge them using liquid benchmarks\n",
    "* economy of scale, the hedge is only on the portfolio level"
   ]
  },
  {
   "cell_type": "markdown",
   "metadata": {
    "slideshow": {
     "slide_type": "subslide"
    }
   },
   "source": [
    "## Benchmark Jacobian\n",
    "\n",
    "$\\frac{\\partial \\bs b}{\\partial \\bs q}$ is the Jacobian of benchmark instruments over benchmark quotes\n",
    "\n",
    "\n",
    "In this example, the benchmark instrument $\\bs b$ includes:\n",
    "\n",
    "* the standard CDS with 100bps coupon at benchmark tenors\n",
    "* the 5Y zero coupon bond\n",
    "\n",
    "The benchmark quotes $\\bs q$ includes:\n",
    "\n",
    "* quoted spread for all benchmark tenors\n",
    "* the flat interest rate"
   ]
  },
  {
   "cell_type": "markdown",
   "metadata": {
    "slideshow": {
     "slide_type": "subslide"
    }
   },
   "source": [
    "## Diagonality\n",
    "\n",
    "The benchmark Jacobian is diagonal if the dependency btw $\\bs b$ and $\\bs q$ is one to one\n",
    "  * Jacobian $\\frac{\\partial v}{\\partial \\bs q}$ requires other elements of $\\bs q$ remain constant when perturbing one of them\n",
    "  * other benchmark PVs remain unchanged because their $\\bs q$ are hold constant\n",
    "  \n",
    "The $\\bs b$ and $\\bs q$ are not always one-to-one\n",
    "  * eg, option price depends on both IR and implied vol\n",
    "  * the benchmark quote is not diagonal in this case\n",
    "    \n",
    "The benchmark Jacobian is diagonal in our example\n",
    "  * the diagonal elements of $\\frac{\\partial \\bs b}{\\partial \\bs q}$ are the PV01s"
   ]
  },
  {
   "cell_type": "markdown",
   "metadata": {
    "slideshow": {
     "slide_type": "subslide"
    }
   },
   "source": [
    "When computing benchmark Jacobian numerically, we **must** re-bootstrap all dependent curves for any perturbations:\n",
    "  * e.g., the CDS curve needs to be re-bootstrapped to reprice all benchmark instruments, even if we perturb IR\n",
    "  * survival probability may change, but PVs are kept the same for unperturbed tenors"
   ]
  },
  {
   "cell_type": "code",
   "execution_count": 22,
   "metadata": {},
   "outputs": [
    {
     "data": {
      "text/html": [
       "<center><font size=2><table border=\"1\" class=\"dataframe\">\n",
       "  <thead>\n",
       "    <tr style=\"text-align: right;\">\n",
       "      <th></th>\n",
       "      <th>5Y ZCB</th>\n",
       "      <th>CDS @0.25Y</th>\n",
       "      <th>CDS @0.5Y</th>\n",
       "      <th>CDS @1Y</th>\n",
       "      <th>CDS @2Y</th>\n",
       "      <th>CDS @3Y</th>\n",
       "      <th>CDS @5Y</th>\n",
       "      <th>CDS @7Y</th>\n",
       "      <th>CDS @10Y</th>\n",
       "    </tr>\n",
       "  </thead>\n",
       "  <tbody>\n",
       "    <tr>\n",
       "      <th>PV01</th>\n",
       "      <td>4.53</td>\n",
       "      <td>0.25</td>\n",
       "      <td>0.49</td>\n",
       "      <td>0.98</td>\n",
       "      <td>1.91</td>\n",
       "      <td>2.78</td>\n",
       "      <td>4.23</td>\n",
       "      <td>5.32</td>\n",
       "      <td>6.45</td>\n",
       "    </tr>\n",
       "  </tbody>\n",
       "</table></font></center>"
      ],
      "text/plain": [
       "<IPython.core.display.HTML object>"
      ]
     },
     "metadata": {},
     "output_type": "display_data"
    }
   ],
   "source": [
    " def calcDelta(bmks, ir, lbd, trades, pert=1e-4, fpert=inst.pert_bmk) : \n",
    "    mkt, pmkt, pkeys, cds = fpert(bmks, ir, lbd=lbd, its=3, pert=pert)\n",
    "    deltas, pv0 = inst.pv_deltas(mkt, pmkt, trades)\n",
    "    \n",
    "    return deltas/pert, pkeys, cds, pv0\n",
    "\n",
    "zcb = inst.ZeroCouponBond(maturity = 5.)\n",
    "bespoke = inst.CDS(maturity=4.5, coupon=0.05, recovery=0.4)\n",
    "bmks = [zcb] + insts\n",
    "notional = 10e6\n",
    "hi_names = ['5Y ZCB'] + ['CDS @%gY' % t for t in terms] # benchmark instruments\n",
    "\n",
    "deltas, pert_names, cds, _ = calcDelta(benchmarks, disc, lbdm, bmks + [bespoke])\n",
    "pv01m = deltas[:-1, :]\n",
    "pv01 = np.diag(pv01m)\n",
    "db = deltas[-1, :]\n",
    "\n",
    "fmt.displayDF(pd.DataFrame(pv01, index=hi_names, columns=['PV01']).T, \"2f\")"
   ]
  },
  {
   "cell_type": "markdown",
   "metadata": {
    "slideshow": {
     "slide_type": "subslide"
    }
   },
   "source": [
    "## Hedging portfolio example"
   ]
  },
  {
   "cell_type": "markdown",
   "metadata": {},
   "source": [
    "Given the $\\frac{\\partial \\bs b}{\\partial \\bs q}$ is diagonal, the hedge notional is simply the bespoke instrument's risks divided by benchmark instruments' PV01:"
   ]
  },
  {
   "cell_type": "code",
   "execution_count": 23,
   "metadata": {},
   "outputs": [
    {
     "data": {
      "text/html": [
       "<center><font size=2><table border=\"1\" class=\"dataframe\">\n",
       "  <thead>\n",
       "    <tr style=\"text-align: right;\">\n",
       "      <th></th>\n",
       "      <th>5Y ZCB</th>\n",
       "      <th>CDS @0.25Y</th>\n",
       "      <th>CDS @0.5Y</th>\n",
       "      <th>CDS @1Y</th>\n",
       "      <th>CDS @2Y</th>\n",
       "      <th>CDS @3Y</th>\n",
       "      <th>CDS @5Y</th>\n",
       "      <th>CDS @7Y</th>\n",
       "      <th>CDS @10Y</th>\n",
       "    </tr>\n",
       "  </thead>\n",
       "  <tbody>\n",
       "    <tr>\n",
       "      <th>PV01 $= \\frac{\\partial b}{\\partial q}$</th>\n",
       "      <td>4.53</td>\n",
       "      <td>0.25</td>\n",
       "      <td>0.49</td>\n",
       "      <td>0.98</td>\n",
       "      <td>1.91</td>\n",
       "      <td>2.78</td>\n",
       "      <td>4.23</td>\n",
       "      <td>5.32</td>\n",
       "      <td>6.45</td>\n",
       "    </tr>\n",
       "    <tr>\n",
       "      <th>$\\delta = 10^{-4} \\frac{\\partial v}{\\partial q}$</th>\n",
       "      <td>390.43</td>\n",
       "      <td>3.38</td>\n",
       "      <td>9.88</td>\n",
       "      <td>45.11</td>\n",
       "      <td>69.88</td>\n",
       "      <td>871.55</td>\n",
       "      <td>3,744.18</td>\n",
       "      <td>-202.84</td>\n",
       "      <td>7.68</td>\n",
       "    </tr>\n",
       "    <tr>\n",
       "      <th>Hedge Not (\\$MM)</th>\n",
       "      <td>-0.86</td>\n",
       "      <td>-0.14</td>\n",
       "      <td>-0.20</td>\n",
       "      <td>-0.46</td>\n",
       "      <td>-0.37</td>\n",
       "      <td>-3.14</td>\n",
       "      <td>-8.85</td>\n",
       "      <td>0.38</td>\n",
       "      <td>-0.01</td>\n",
       "    </tr>\n",
       "  </tbody>\n",
       "</table></font></center>"
      ],
      "text/plain": [
       "<IPython.core.display.HTML object>"
      ]
     },
     "metadata": {},
     "output_type": "display_data"
    }
   ],
   "source": [
    "hedge_items = ['PV01 $= \\\\frac{\\partial b}{\\partial q}$', \n",
    "               '$\\delta = 10^{-4} \\\\frac{\\partial v}{\\partial q}$', 'Hedge Not (\\$MM)']\n",
    "\n",
    "df_h_bmk = pd.DataFrame(np.array([pv01, db*notional*1e-4, -db/pv01*notional*1e-6]).T, \n",
    "                        index=hi_names, columns=hedge_items).T\n",
    "fmt.displayDF(df_h_bmk, \"2f\")"
   ]
  },
  {
   "cell_type": "markdown",
   "metadata": {},
   "source": [
    "* note that the deltas are usually communicated in PV changes for 1bps change in spread, thus the $10^{-4}$ factor."
   ]
  },
  {
   "cell_type": "markdown",
   "metadata": {
    "slideshow": {
     "slide_type": "subslide"
    }
   },
   "source": [
    "## Compute deltas numerically\n",
    "\n",
    "Steps to compute $\\frac{\\partial v}{\\partial \\bs q}$ numerically:\n",
    "\n",
    "1. bump one tenor point $q_i$, re-bootstrap the whole CDS curve\n",
    "  1. for each tenor point ```j=1:maturity```, root search the knot value of hazard rate $h_j$\n",
    "    * for each trial value of $h_j$\n",
    "      * build tension spline interpolation on the whole hazard rate term structure $\\bs h$\n",
    "      * price the benchmark CDS instrument $b_j$, \n",
    "      * continue root search until $b_j$ matches the market price to a high precision\n",
    "  1. price the bespoke instrument $v$ using the bumped curve, and iterate if pricing error is large\n",
    "1. compute the delta using finite difference"
   ]
  },
  {
   "cell_type": "markdown",
   "metadata": {
    "slideshow": {
     "slide_type": "subslide"
    }
   },
   "source": [
    "## Tension and hedge notional\n",
    "\n",
    "The tension parameter has a noticeable effects on PV and hedge notionals.\n",
    "\n",
    "* all numbers below are in million USD\n",
    "* the leaks to longer maturities reduce with larger $\\lambda$ "
   ]
  },
  {
   "cell_type": "code",
   "execution_count": 24,
   "metadata": {},
   "outputs": [
    {
     "data": {
      "text/html": [
       "<center><font size=2><table border=\"1\" class=\"dataframe\">\n",
       "  <thead>\n",
       "    <tr style=\"text-align: right;\">\n",
       "      <th></th>\n",
       "      <th>Bespoke PV</th>\n",
       "      <th>5Y ZCB</th>\n",
       "      <th>CDS @0.25Y</th>\n",
       "      <th>CDS @0.5Y</th>\n",
       "      <th>CDS @1Y</th>\n",
       "      <th>CDS @2Y</th>\n",
       "      <th>CDS @3Y</th>\n",
       "      <th>CDS @5Y</th>\n",
       "      <th>CDS @7Y</th>\n",
       "      <th>CDS @10Y</th>\n",
       "    </tr>\n",
       "  </thead>\n",
       "  <tbody>\n",
       "    <tr>\n",
       "      <th>$\\lambda=0$</th>\n",
       "      <td>0.567</td>\n",
       "      <td>-0.840</td>\n",
       "      <td>-0.344</td>\n",
       "      <td>0.271</td>\n",
       "      <td>-1.095</td>\n",
       "      <td>1.011</td>\n",
       "      <td>-4.248</td>\n",
       "      <td>-9.625</td>\n",
       "      <td>1.441</td>\n",
       "      <td>-0.215</td>\n",
       "    </tr>\n",
       "    <tr>\n",
       "      <th>$\\lambda=2$</th>\n",
       "      <td>0.553</td>\n",
       "      <td>-0.846</td>\n",
       "      <td>-0.146</td>\n",
       "      <td>-0.140</td>\n",
       "      <td>-0.578</td>\n",
       "      <td>0.099</td>\n",
       "      <td>-3.507</td>\n",
       "      <td>-9.329</td>\n",
       "      <td>0.904</td>\n",
       "      <td>-0.077</td>\n",
       "    </tr>\n",
       "    <tr>\n",
       "      <th>$\\lambda=10$</th>\n",
       "      <td>0.541</td>\n",
       "      <td>-0.863</td>\n",
       "      <td>-0.136</td>\n",
       "      <td>-0.200</td>\n",
       "      <td>-0.461</td>\n",
       "      <td>-0.366</td>\n",
       "      <td>-3.136</td>\n",
       "      <td>-8.853</td>\n",
       "      <td>0.381</td>\n",
       "      <td>-0.012</td>\n",
       "    </tr>\n",
       "    <tr>\n",
       "      <th>$\\lambda=50$</th>\n",
       "      <td>0.534</td>\n",
       "      <td>-0.875</td>\n",
       "      <td>-0.140</td>\n",
       "      <td>-0.211</td>\n",
       "      <td>-0.440</td>\n",
       "      <td>-0.544</td>\n",
       "      <td>-3.014</td>\n",
       "      <td>-8.541</td>\n",
       "      <td>0.100</td>\n",
       "      <td>-0.001</td>\n",
       "    </tr>\n",
       "    <tr>\n",
       "      <th>$\\lambda=5000$</th>\n",
       "      <td>0.532</td>\n",
       "      <td>-0.880</td>\n",
       "      <td>-0.141</td>\n",
       "      <td>-0.214</td>\n",
       "      <td>-0.436</td>\n",
       "      <td>-0.600</td>\n",
       "      <td>-2.979</td>\n",
       "      <td>-8.424</td>\n",
       "      <td>0.001</td>\n",
       "      <td>0.000</td>\n",
       "    </tr>\n",
       "  </tbody>\n",
       "</table></font></center>"
      ],
      "text/plain": [
       "<IPython.core.display.HTML object>"
      ]
     },
     "metadata": {},
     "output_type": "display_data"
    }
   ],
   "source": [
    "def hedgeRatio(lbdm) :\n",
    "    deltas, _, _, pv0 = calcDelta(benchmarks, disc, lbdm, bmks + [bespoke])\n",
    "    pv01 = np.diag(deltas[:-1, :])\n",
    "    db = deltas[-1, :]\n",
    "    return np.concatenate((pv0[-1:], -db/pv01))\n",
    "\n",
    "lbds = [0, 2, 10, 50, 5000]\n",
    "hn = [hedgeRatio(l)*notional for l in lbds]\n",
    "\n",
    "lkeys = [\"$\\lambda=%d$\" % l for l in lbds]\n",
    "df_hn = pd.DataFrame(np.array(hn)*1e-6, columns=np.concatenate((['Bespoke PV'], hi_names)), index=lkeys)\n",
    "\n",
    "fmt.displayDF(df_hn, \"3f\")"
   ]
  },
  {
   "cell_type": "markdown",
   "metadata": {
    "slideshow": {
     "slide_type": "subslide"
    }
   },
   "source": [
    "## Valuation and hedging ambiguity?\n",
    "\n",
    "The PV and hedge notionals depend on $\\lambda$\n",
    "  * two parties may not agree on the PVs and risks of the trades, because of model differences\n",
    "    * the quoted spreads are a few bps apart due to different $\\lambda$\n",
    "    * this contributes to a wider bid/offer for off-the-runs\n",
    "    * a common headache in operation, e.g. collateral posting\n",
    "  * the ambiguity is a reflection of incomplete market, not an arbitrage opportunity\n",
    "  \n",
    "Dynamic hedging in practice:\n",
    "  * can't possibly remove all risks, eg. jump-to-default risk\n",
    "  * the cost of hedging over time won't add up to the PV of the instruments"
   ]
  },
  {
   "cell_type": "markdown",
   "metadata": {
    "slideshow": {
     "slide_type": "slide"
    }
   },
   "source": [
    "# Risk Transformation\n",
    "\n",
    "Warren Buffet: Risk comes from not knowing what you're doing."
   ]
  },
  {
   "cell_type": "markdown",
   "metadata": {
    "slideshow": {
     "slide_type": "subslide"
    }
   },
   "source": [
    "## CDS big bang\n",
    "\n",
    "The big bang of CDS standardisation occurred in 2010:\n",
    "\n",
    "|  Era   | Liquid Instruments | Quoting Convention | At Trade Inception | Counterparty |\n",
    "| :---: | :----: | :----: | :-----: |\n",
    "| before |  par spread CDS | par spreads | $PV=0$, <br> no cash exchange | OTC |\n",
    "| after | standardised CDS with 100/500 cpn | quoted spreads, upfront | $PV \\ne 0$, <br> cash exchange | central clearing |\n",
    "\n",
    "At its core, it is simply a change in the liquid benchmark instruments.\n",
    "* the quoting convention change is a side product\n",
    "* ISDA publishes a one-day-lagged IR curve for the conversion of quoted spreads to PV, to ensure that the standardised CDS PV is solely determined by the corresponding quoted spread."
   ]
  },
  {
   "cell_type": "markdown",
   "metadata": {
    "slideshow": {
     "slide_type": "subslide"
    }
   },
   "source": [
    "## Real world hedging problem\n",
    "\n",
    "However, your bank's IT system hasn't been updated in time (it never does). \n",
    "\n",
    "In your bank:\n",
    "\n",
    "* end of day valuation still builds CDS curves from the par CDS spread\n",
    "* traders have to continue marking the par spreads, even though they all trade standardised CDS using quoted spreads\n",
    "* risks (Deltas) are all computed with regard to par CDS"
   ]
  },
  {
   "cell_type": "markdown",
   "metadata": {
    "slideshow": {
     "slide_type": "subslide"
    }
   },
   "source": [
    "From your bank's system point of view (contrary to the market): \n",
    "\n",
    "* the par CDS is still the benchmark instruments\n",
    "* the standardised CDS are the bespoke instruments you now have to hedge your positions with\n",
    "\n",
    "How do you continue to trade and hedge your book?"
   ]
  },
  {
   "cell_type": "markdown",
   "metadata": {
    "slideshow": {
     "slide_type": "subslide"
    }
   },
   "source": [
    "## Par spread $\\leftrightarrow$ quoted spread\n",
    "\n",
    "the equivalent par CDS spreads ($\\bs p$) and quoted spreads ($\\bs q$) are shown below.\n",
    "* the conversion btw par spreads $\\bs p$ and quoted spreads $\\bs q$ is easy\n",
    "  * $\\bs q \\rightarrow$ CDS curve $\\rightarrow \\bs p \\rightarrow$ CDS Curve\n",
    "  * the last step is done by the end of day official IT system\n",
    "* CDS curves built from converted $\\bs q$ and $\\bs p$ are identical\n"
   ]
  },
  {
   "cell_type": "code",
   "execution_count": 25,
   "metadata": {},
   "outputs": [
    {
     "data": {
      "text/html": [
       "<center><font size=2><table border=\"1\" class=\"dataframe\">\n",
       "  <thead>\n",
       "    <tr style=\"text-align: right;\">\n",
       "      <th>Maturity (Y)</th>\n",
       "      <th>0.25</th>\n",
       "      <th>0.5</th>\n",
       "      <th>1.0</th>\n",
       "      <th>2.0</th>\n",
       "      <th>3.0</th>\n",
       "      <th>5.0</th>\n",
       "      <th>7.0</th>\n",
       "      <th>10.0</th>\n",
       "    </tr>\n",
       "  </thead>\n",
       "  <tbody>\n",
       "    <tr>\n",
       "      <th>Coupon(bps)</th>\n",
       "      <td>100</td>\n",
       "      <td>100</td>\n",
       "      <td>100</td>\n",
       "      <td>100</td>\n",
       "      <td>100</td>\n",
       "      <td>100</td>\n",
       "      <td>100</td>\n",
       "      <td>100</td>\n",
       "    </tr>\n",
       "    <tr>\n",
       "      <th>PV (% Points)</th>\n",
       "      <td>0.0497</td>\n",
       "      <td>0.0742</td>\n",
       "      <td>0.0491</td>\n",
       "      <td>-1.04</td>\n",
       "      <td>-3.42</td>\n",
       "      <td>-12.3</td>\n",
       "      <td>-19.6</td>\n",
       "      <td>-27.3</td>\n",
       "    </tr>\n",
       "    <tr>\n",
       "      <th>Quoted Spread(bps)</th>\n",
       "      <td>80</td>\n",
       "      <td>85</td>\n",
       "      <td>95</td>\n",
       "      <td>154</td>\n",
       "      <td>222</td>\n",
       "      <td>385</td>\n",
       "      <td>451</td>\n",
       "      <td>480</td>\n",
       "    </tr>\n",
       "    <tr>\n",
       "      <th>Par Coupon (bps)</th>\n",
       "      <td>80</td>\n",
       "      <td>85</td>\n",
       "      <td>95</td>\n",
       "      <td>154</td>\n",
       "      <td>223</td>\n",
       "      <td>390</td>\n",
       "      <td>468</td>\n",
       "      <td>524</td>\n",
       "    </tr>\n",
       "  </tbody>\n",
       "</table></font></center>"
      ],
      "text/plain": [
       "<IPython.core.display.HTML object>"
      ]
     },
     "metadata": {},
     "output_type": "display_data"
    }
   ],
   "source": [
    "pars = np.array([i.par(disc, inst.zero2disc(cds)) for i in insts])\n",
    "cds_data['Par Coupon (bps)'] = pars*1e4\n",
    "fmt.displayDF(cds_data.T, \"3g\")\n",
    "bmk_par = {inst.CDS(i.maturity, s, .4) : 0 for i, s in zip(insts, pars)}"
   ]
  },
  {
   "cell_type": "markdown",
   "metadata": {
    "slideshow": {
     "slide_type": "fragment"
    }
   },
   "source": [
    "where do the par spread and quoted spread diverge?"
   ]
  },
  {
   "cell_type": "markdown",
   "metadata": {
    "slideshow": {
     "slide_type": "subslide"
    }
   },
   "source": [
    "## What people often do\n",
    "\n",
    "Compute the hedge ratio as:\n",
    "\n",
    "* computes bespoke trade's deltas to par spreads: $\\frac{\\partial v}{\\partial p_i}$\n",
    "* compute the PV01 of standardised CDS to par spreads, i.e, $\\frac{\\partial b_i}{\\partial p_i}$\n",
    "* compute the hedge notional as the ratio of the bespoke delta and PV01s, both to par spread\n",
    "\n",
    "The following are the results:"
   ]
  },
  {
   "cell_type": "code",
   "execution_count": 26,
   "metadata": {},
   "outputs": [
    {
     "data": {
      "text/html": [
       "<center><font size=2><table border=\"1\" class=\"dataframe\">\n",
       "  <thead>\n",
       "    <tr style=\"text-align: right;\">\n",
       "      <th></th>\n",
       "      <th>5Y ZCB</th>\n",
       "      <th>CDS @0.25Y</th>\n",
       "      <th>CDS @0.5Y</th>\n",
       "      <th>CDS @1Y</th>\n",
       "      <th>CDS @2Y</th>\n",
       "      <th>CDS @3Y</th>\n",
       "      <th>CDS @5Y</th>\n",
       "      <th>CDS @7Y</th>\n",
       "      <th>CDS @10Y</th>\n",
       "    </tr>\n",
       "  </thead>\n",
       "  <tbody>\n",
       "    <tr>\n",
       "      <th>PV01 $= \\frac{\\partial b}{\\partial p}$</th>\n",
       "      <td>4.53</td>\n",
       "      <td>0.25</td>\n",
       "      <td>0.49</td>\n",
       "      <td>0.98</td>\n",
       "      <td>1.90</td>\n",
       "      <td>2.74</td>\n",
       "      <td>4.00</td>\n",
       "      <td>4.97</td>\n",
       "      <td>5.77</td>\n",
       "    </tr>\n",
       "    <tr>\n",
       "      <th>$\\delta = 10^{-4} \\frac{\\partial v}{\\partial p}$</th>\n",
       "      <td>124.94</td>\n",
       "      <td>1.17</td>\n",
       "      <td>3.38</td>\n",
       "      <td>16.16</td>\n",
       "      <td>-2.26</td>\n",
       "      <td>710.73</td>\n",
       "      <td>3,556.26</td>\n",
       "      <td>-181.90</td>\n",
       "      <td>6.28</td>\n",
       "    </tr>\n",
       "    <tr>\n",
       "      <th>Hedge Not (\\$MM)</th>\n",
       "      <td>-0.28</td>\n",
       "      <td>-0.05</td>\n",
       "      <td>-0.07</td>\n",
       "      <td>-0.17</td>\n",
       "      <td>0.01</td>\n",
       "      <td>-2.59</td>\n",
       "      <td>-8.89</td>\n",
       "      <td>0.37</td>\n",
       "      <td>-0.01</td>\n",
       "    </tr>\n",
       "  </tbody>\n",
       "</table></font></center>"
      ],
      "text/plain": [
       "<IPython.core.display.HTML object>"
      ]
     },
     "metadata": {},
     "output_type": "display_data"
    }
   ],
   "source": [
    "deltas_p, pert_names, _, _ = calcDelta(bmk_par, disc, lbdm, bmks + [bespoke])\n",
    "pv01m_p = deltas_p[:-1, :]\n",
    "pv01_p = np.diag(pv01m_p)\n",
    "db_p = deltas_p[-1, :]\n",
    "\n",
    "hedge_items_p = [l.replace(' q', ' p') for l in hedge_items]\n",
    "hn_p = pd.DataFrame(np.array([pv01_p, db_p*notional*1e-4, -db_p/pv01_p*notional*1e-6]).T, \n",
    "                        index=hi_names, columns=hedge_items_p).T\n",
    "\n",
    "fmt.displayDF(hn_p, \"2f\")"
   ]
  },
  {
   "cell_type": "markdown",
   "metadata": {
    "slideshow": {
     "slide_type": "subslide"
    }
   },
   "source": [
    "## is incorrect\n",
    "\n",
    "There are serious errors in the resulting hedging portfolio\n",
    "\n",
    "* in particular the IR hedge amount is very wrong\n",
    "* leading to mishedges, confusions and headaches "
   ]
  },
  {
   "cell_type": "code",
   "execution_count": 27,
   "metadata": {},
   "outputs": [
    {
     "data": {
      "text/html": [
       "<center><font size=2><table border=\"1\" class=\"dataframe\">\n",
       "  <thead>\n",
       "    <tr style=\"text-align: right;\">\n",
       "      <th></th>\n",
       "      <th>5Y ZCB</th>\n",
       "      <th>CDS @0.25Y</th>\n",
       "      <th>CDS @0.5Y</th>\n",
       "      <th>CDS @1Y</th>\n",
       "      <th>CDS @2Y</th>\n",
       "      <th>CDS @3Y</th>\n",
       "      <th>CDS @5Y</th>\n",
       "      <th>CDS @7Y</th>\n",
       "      <th>CDS @10Y</th>\n",
       "    </tr>\n",
       "  </thead>\n",
       "  <tbody>\n",
       "    <tr>\n",
       "      <th>Par CDS $\\delta$/PV01</th>\n",
       "      <td>-0.2761</td>\n",
       "      <td>-0.0472</td>\n",
       "      <td>-0.0685</td>\n",
       "      <td>-0.1651</td>\n",
       "      <td>0.0119</td>\n",
       "      <td>-2.5896</td>\n",
       "      <td>-8.8937</td>\n",
       "      <td>0.3662</td>\n",
       "      <td>-0.0109</td>\n",
       "    </tr>\n",
       "    <tr>\n",
       "      <th>Exact H/N</th>\n",
       "      <td>-0.8628</td>\n",
       "      <td>-0.1362</td>\n",
       "      <td>-0.2001</td>\n",
       "      <td>-0.4611</td>\n",
       "      <td>-0.3656</td>\n",
       "      <td>-3.1362</td>\n",
       "      <td>-8.8529</td>\n",
       "      <td>0.3814</td>\n",
       "      <td>-0.0119</td>\n",
       "    </tr>\n",
       "  </tbody>\n",
       "</table></font></center>"
      ],
      "text/plain": [
       "<IPython.core.display.HTML object>"
      ]
     },
     "metadata": {},
     "output_type": "display_data"
    }
   ],
   "source": [
    "ih = -db_p.dot(np.linalg.inv(pv01m_p))*notional\n",
    "hns = pd.DataFrame([-db_p/pv01_p*notional, -db/pv01*notional, ih], columns=hi_names, \n",
    "                    index=['Par CDS $\\\\delta$/PV01', 'Exact H/N', 'Inverted H/N'])\n",
    "fmt.displayDF(hns[:-1]*1e-6, \"4f\")"
   ]
  },
  {
   "cell_type": "markdown",
   "metadata": {
    "slideshow": {
     "slide_type": "fragment"
    }
   },
   "source": [
    "The root cause is that the $\\frac{\\partial \\bs b}{\\partial \\bs p}$ is not a diagonal matrix\n",
    "* $\\bs p$ is quotes for par CDS instruments, it is not one to one with $\\bs b$, the standardised CDS\n",
    "* this incorrect procedure ignores all off diagonal elements in $\\frac{\\partial \\bs b}{\\partial \\bs p}$ "
   ]
  },
  {
   "cell_type": "markdown",
   "metadata": {
    "slideshow": {
     "slide_type": "subslide"
    }
   },
   "source": [
    "The following is the full Jacobian matrix of the standardised CDS with 100bps coupon to par spread perturbations $\\frac{\\partial \\bs b}{\\partial \\bs p}$:"
   ]
  },
  {
   "cell_type": "code",
   "execution_count": 28,
   "metadata": {},
   "outputs": [
    {
     "data": {
      "text/html": [
       "<center><font size=2><table border=\"1\" class=\"dataframe\">\n",
       "  <thead>\n",
       "    <tr style=\"text-align: right;\">\n",
       "      <th></th>\n",
       "      <th>IR</th>\n",
       "      <th>CDS @0.25Y</th>\n",
       "      <th>CDS @0.50Y</th>\n",
       "      <th>CDS @1Y</th>\n",
       "      <th>CDS @2Y</th>\n",
       "      <th>CDS @3Y</th>\n",
       "      <th>CDS @5Y</th>\n",
       "      <th>CDS @7Y</th>\n",
       "      <th>CDS @10Y</th>\n",
       "    </tr>\n",
       "  </thead>\n",
       "  <tbody>\n",
       "    <tr>\n",
       "      <th>5Y ZCB</th>\n",
       "      <td>4.5253</td>\n",
       "      <td>0.0000</td>\n",
       "      <td>0.0000</td>\n",
       "      <td>0.0000</td>\n",
       "      <td>0.0000</td>\n",
       "      <td>0.0000</td>\n",
       "      <td>0.0000</td>\n",
       "      <td>0.0000</td>\n",
       "      <td>0.0000</td>\n",
       "    </tr>\n",
       "    <tr>\n",
       "      <th>CDS @0.25Y</th>\n",
       "      <td>0.0001</td>\n",
       "      <td>0.2481</td>\n",
       "      <td>0.0000</td>\n",
       "      <td>-0.0000</td>\n",
       "      <td>0.0000</td>\n",
       "      <td>-0.0000</td>\n",
       "      <td>0.0000</td>\n",
       "      <td>0.0000</td>\n",
       "      <td>0.0000</td>\n",
       "    </tr>\n",
       "    <tr>\n",
       "      <th>CDS @0.5Y</th>\n",
       "      <td>0.0003</td>\n",
       "      <td>0.0002</td>\n",
       "      <td>0.4940</td>\n",
       "      <td>0.0000</td>\n",
       "      <td>0.0000</td>\n",
       "      <td>0.0000</td>\n",
       "      <td>0.0000</td>\n",
       "      <td>0.0000</td>\n",
       "      <td>0.0000</td>\n",
       "    </tr>\n",
       "    <tr>\n",
       "      <th>CDS @1Y</th>\n",
       "      <td>0.0003</td>\n",
       "      <td>0.0000</td>\n",
       "      <td>0.0002</td>\n",
       "      <td>0.9788</td>\n",
       "      <td>-0.0000</td>\n",
       "      <td>0.0000</td>\n",
       "      <td>-0.0000</td>\n",
       "      <td>0.0000</td>\n",
       "      <td>-0.0000</td>\n",
       "    </tr>\n",
       "    <tr>\n",
       "      <th>CDS @2Y</th>\n",
       "      <td>-0.0115</td>\n",
       "      <td>-0.0005</td>\n",
       "      <td>-0.0015</td>\n",
       "      <td>-0.0067</td>\n",
       "      <td>1.9003</td>\n",
       "      <td>0.0004</td>\n",
       "      <td>-0.0000</td>\n",
       "      <td>0.0000</td>\n",
       "      <td>-0.0000</td>\n",
       "    </tr>\n",
       "    <tr>\n",
       "      <th>CDS @3Y</th>\n",
       "      <td>-0.0543</td>\n",
       "      <td>-0.0011</td>\n",
       "      <td>-0.0032</td>\n",
       "      <td>-0.0140</td>\n",
       "      <td>-0.0377</td>\n",
       "      <td>2.7446</td>\n",
       "      <td>0.0005</td>\n",
       "      <td>-0.0000</td>\n",
       "      <td>0.0000</td>\n",
       "    </tr>\n",
       "    <tr>\n",
       "      <th>CDS @5Y</th>\n",
       "      <td>-0.3067</td>\n",
       "      <td>-0.0022</td>\n",
       "      <td>-0.0065</td>\n",
       "      <td>-0.0287</td>\n",
       "      <td>-0.0708</td>\n",
       "      <td>-0.1771</td>\n",
       "      <td>3.9986</td>\n",
       "      <td>0.0094</td>\n",
       "      <td>-0.0003</td>\n",
       "    </tr>\n",
       "    <tr>\n",
       "      <th>CDS @7Y</th>\n",
       "      <td>-0.6523</td>\n",
       "      <td>-0.0023</td>\n",
       "      <td>-0.0068</td>\n",
       "      <td>-0.0303</td>\n",
       "      <td>-0.0750</td>\n",
       "      <td>-0.1833</td>\n",
       "      <td>-0.4337</td>\n",
       "      <td>4.9664</td>\n",
       "      <td>0.0077</td>\n",
       "    </tr>\n",
       "    <tr>\n",
       "      <th>CDS @10Y</th>\n",
       "      <td>-1.2097</td>\n",
       "      <td>-0.0020</td>\n",
       "      <td>-0.0058</td>\n",
       "      <td>-0.0257</td>\n",
       "      <td>-0.0635</td>\n",
       "      <td>-0.1556</td>\n",
       "      <td>-0.3520</td>\n",
       "      <td>-0.7054</td>\n",
       "      <td>5.7724</td>\n",
       "    </tr>\n",
       "  </tbody>\n",
       "</table></font></center>"
      ],
      "text/plain": [
       "<IPython.core.display.HTML object>"
      ]
     },
     "metadata": {},
     "output_type": "display_data"
    }
   ],
   "source": [
    "fmt.displayDF(pd.DataFrame(pv01m_p, index=hi_names, columns=pert_names), \"4f\")"
   ]
  },
  {
   "cell_type": "markdown",
   "metadata": {
    "slideshow": {
     "slide_type": "subslide"
    }
   },
   "source": [
    "For comparison, we also the full Jacobian matrix of stardardised CDS to quoted spreads $\\frac{\\partial \\bs b}{\\partial \\bs q}$, showing that it is indeed diagonal, so we can take the PV01 short cut."
   ]
  },
  {
   "cell_type": "code",
   "execution_count": 29,
   "metadata": {},
   "outputs": [
    {
     "data": {
      "text/html": [
       "<center><font size=2><table border=\"1\" class=\"dataframe\">\n",
       "  <thead>\n",
       "    <tr style=\"text-align: right;\">\n",
       "      <th></th>\n",
       "      <th>IR</th>\n",
       "      <th>CDS @0.25Y</th>\n",
       "      <th>CDS @0.50Y</th>\n",
       "      <th>CDS @1Y</th>\n",
       "      <th>CDS @2Y</th>\n",
       "      <th>CDS @3Y</th>\n",
       "      <th>CDS @5Y</th>\n",
       "      <th>CDS @7Y</th>\n",
       "      <th>CDS @10Y</th>\n",
       "    </tr>\n",
       "  </thead>\n",
       "  <tbody>\n",
       "    <tr>\n",
       "      <th>5Y ZCB</th>\n",
       "      <td>4.5253</td>\n",
       "      <td>0.0000</td>\n",
       "      <td>0.0000</td>\n",
       "      <td>0.0000</td>\n",
       "      <td>0.0000</td>\n",
       "      <td>0.0000</td>\n",
       "      <td>0.0000</td>\n",
       "      <td>0.0000</td>\n",
       "      <td>0.0000</td>\n",
       "    </tr>\n",
       "    <tr>\n",
       "      <th>CDS @0.25Y</th>\n",
       "      <td>-0.0000</td>\n",
       "      <td>0.2479</td>\n",
       "      <td>-0.0000</td>\n",
       "      <td>-0.0000</td>\n",
       "      <td>-0.0000</td>\n",
       "      <td>-0.0000</td>\n",
       "      <td>-0.0000</td>\n",
       "      <td>0.0000</td>\n",
       "      <td>-0.0000</td>\n",
       "    </tr>\n",
       "    <tr>\n",
       "      <th>CDS @0.5Y</th>\n",
       "      <td>0.0000</td>\n",
       "      <td>0.0000</td>\n",
       "      <td>0.4937</td>\n",
       "      <td>0.0000</td>\n",
       "      <td>0.0000</td>\n",
       "      <td>0.0000</td>\n",
       "      <td>0.0000</td>\n",
       "      <td>0.0000</td>\n",
       "      <td>0.0000</td>\n",
       "    </tr>\n",
       "    <tr>\n",
       "      <th>CDS @1Y</th>\n",
       "      <td>-0.0000</td>\n",
       "      <td>0.0000</td>\n",
       "      <td>-0.0000</td>\n",
       "      <td>0.9785</td>\n",
       "      <td>-0.0000</td>\n",
       "      <td>-0.0000</td>\n",
       "      <td>-0.0000</td>\n",
       "      <td>-0.0000</td>\n",
       "      <td>0.0000</td>\n",
       "    </tr>\n",
       "    <tr>\n",
       "      <th>CDS @2Y</th>\n",
       "      <td>-0.0000</td>\n",
       "      <td>-0.0000</td>\n",
       "      <td>-0.0000</td>\n",
       "      <td>-0.0000</td>\n",
       "      <td>1.9111</td>\n",
       "      <td>-0.0000</td>\n",
       "      <td>-0.0000</td>\n",
       "      <td>-0.0000</td>\n",
       "      <td>0.0000</td>\n",
       "    </tr>\n",
       "    <tr>\n",
       "      <th>CDS @3Y</th>\n",
       "      <td>-0.0000</td>\n",
       "      <td>-0.0000</td>\n",
       "      <td>0.0000</td>\n",
       "      <td>-0.0000</td>\n",
       "      <td>0.0000</td>\n",
       "      <td>2.7790</td>\n",
       "      <td>-0.0000</td>\n",
       "      <td>-0.0000</td>\n",
       "      <td>-0.0000</td>\n",
       "    </tr>\n",
       "    <tr>\n",
       "      <th>CDS @5Y</th>\n",
       "      <td>0.0000</td>\n",
       "      <td>-0.0000</td>\n",
       "      <td>-0.0000</td>\n",
       "      <td>-0.0000</td>\n",
       "      <td>0.0000</td>\n",
       "      <td>-0.0000</td>\n",
       "      <td>4.2293</td>\n",
       "      <td>0.0000</td>\n",
       "      <td>0.0000</td>\n",
       "    </tr>\n",
       "    <tr>\n",
       "      <th>CDS @7Y</th>\n",
       "      <td>0.0000</td>\n",
       "      <td>-0.0000</td>\n",
       "      <td>-0.0000</td>\n",
       "      <td>-0.0000</td>\n",
       "      <td>0.0000</td>\n",
       "      <td>0.0000</td>\n",
       "      <td>0.0000</td>\n",
       "      <td>5.3189</td>\n",
       "      <td>0.0000</td>\n",
       "    </tr>\n",
       "    <tr>\n",
       "      <th>CDS @10Y</th>\n",
       "      <td>0.0000</td>\n",
       "      <td>0.0000</td>\n",
       "      <td>0.0000</td>\n",
       "      <td>0.0000</td>\n",
       "      <td>0.0000</td>\n",
       "      <td>0.0000</td>\n",
       "      <td>0.0000</td>\n",
       "      <td>0.0000</td>\n",
       "      <td>6.4548</td>\n",
       "    </tr>\n",
       "  </tbody>\n",
       "</table></font></center>"
      ],
      "text/plain": [
       "<IPython.core.display.HTML object>"
      ]
     },
     "metadata": {},
     "output_type": "display_data"
    }
   ],
   "source": [
    "fmt.displayDF(pd.DataFrame(pv01m, index=hi_names, columns=pert_names), '4f')"
   ]
  },
  {
   "cell_type": "markdown",
   "metadata": {
    "slideshow": {
     "slide_type": "subslide"
    }
   },
   "source": [
    "## Full inversion\n",
    "\n",
    "The following hedge ratio and notional are obtained by inverting the full Jacobian matrix of standardised CDS to par spreads: \n",
    "\n",
    "$$\\bs h^T = -  \\frac{\\partial v}{\\partial \\bs p} (\\frac{\\partial \\bs b}{\\partial \\bs p})^{-1} $$"
   ]
  },
  {
   "cell_type": "markdown",
   "metadata": {
    "slideshow": {
     "slide_type": "-"
    }
   },
   "source": [
    "We did get the correct hedging portfolio."
   ]
  },
  {
   "cell_type": "code",
   "execution_count": 30,
   "metadata": {},
   "outputs": [
    {
     "data": {
      "text/html": [
       "<center><font size=2><table border=\"1\" class=\"dataframe\">\n",
       "  <thead>\n",
       "    <tr style=\"text-align: right;\">\n",
       "      <th></th>\n",
       "      <th>5Y ZCB</th>\n",
       "      <th>CDS @0.25Y</th>\n",
       "      <th>CDS @0.5Y</th>\n",
       "      <th>CDS @1Y</th>\n",
       "      <th>CDS @2Y</th>\n",
       "      <th>CDS @3Y</th>\n",
       "      <th>CDS @5Y</th>\n",
       "      <th>CDS @7Y</th>\n",
       "      <th>CDS @10Y</th>\n",
       "    </tr>\n",
       "  </thead>\n",
       "  <tbody>\n",
       "    <tr>\n",
       "      <th>Par CDS $\\delta$/PV01</th>\n",
       "      <td>-0.2761</td>\n",
       "      <td>-0.0472</td>\n",
       "      <td>-0.0685</td>\n",
       "      <td>-0.1651</td>\n",
       "      <td>0.0119</td>\n",
       "      <td>-2.5896</td>\n",
       "      <td>-8.8937</td>\n",
       "      <td>0.3662</td>\n",
       "      <td>-0.0109</td>\n",
       "    </tr>\n",
       "    <tr>\n",
       "      <th>Exact H/N</th>\n",
       "      <td>-0.8628</td>\n",
       "      <td>-0.1362</td>\n",
       "      <td>-0.2001</td>\n",
       "      <td>-0.4611</td>\n",
       "      <td>-0.3656</td>\n",
       "      <td>-3.1362</td>\n",
       "      <td>-8.8529</td>\n",
       "      <td>0.3814</td>\n",
       "      <td>-0.0119</td>\n",
       "    </tr>\n",
       "    <tr>\n",
       "      <th>Inverted H/N</th>\n",
       "      <td>-0.8627</td>\n",
       "      <td>-0.1362</td>\n",
       "      <td>-0.2001</td>\n",
       "      <td>-0.4610</td>\n",
       "      <td>-0.3656</td>\n",
       "      <td>-3.1361</td>\n",
       "      <td>-8.8530</td>\n",
       "      <td>0.3814</td>\n",
       "      <td>-0.0119</td>\n",
       "    </tr>\n",
       "  </tbody>\n",
       "</table></font></center>"
      ],
      "text/plain": [
       "<IPython.core.display.HTML object>"
      ]
     },
     "metadata": {},
     "output_type": "display_data"
    }
   ],
   "source": [
    "fmt.displayDF(hns*1e-6, \"4f\")"
   ]
  },
  {
   "cell_type": "markdown",
   "metadata": {
    "slideshow": {
     "slide_type": "subslide"
    }
   },
   "source": [
    "## Delta transformation\n",
    "\n",
    "Jacobian can transform Deltas to different market quotes:\n",
    "\n",
    "$$ \\frac{\\partial v}{\\partial{\\bs q}} = \\frac{\\partial v}{\\partial \\bs p} \\frac{\\partial \\bs p}{\\partial \\bs b} \\frac{\\partial \\bs b}{\\partial \\bs q} = \\frac{\\partial v}{\\partial \\bs p} \\left(\\frac{\\partial \\bs b}{\\partial \\bs p}\\right)^{-1} \\frac{\\partial \\bs b}{\\partial \\bs q} $$\n",
    "\n",
    "* simply a change of variables in multi-variate calculus\n",
    "* the right hand side can be computed without upgrading the system\n",
    "  * the first factor in the RHS is the only time-consuming part"
   ]
  },
  {
   "cell_type": "markdown",
   "metadata": {
    "slideshow": {
     "slide_type": "subslide"
    }
   },
   "source": [
    "## Be all inclusive\n",
    "\n",
    "It is important to include all risk factors in the Jacobian matrix\n",
    "\n",
    " * a common mistake is to leave out the IR from the Jacobian\n",
    " * missing any risk factor in the Jacobian will lead to slow PnL bleeding that is very difficult to detect\n",
    " * rigorous PnL explain process can help identify such problems"
   ]
  },
  {
   "cell_type": "markdown",
   "metadata": {
    "slideshow": {
     "slide_type": "subslide"
    }
   },
   "source": [
    "## Deltas to internal state variables\n",
    "\n",
    "\n",
    "The Jacobian matrix can also be used to speed up the delta calculation.\n",
    "\n",
    "* So far, we compute the deltas to market observables, such as quoted spreads or par spreads. \n",
    "* But this is not the only choice, we could compute deltas to model's internal state variables instead.\n",
    "\n",
    "Let consider computing all deltas of CDS to the cumulative hazard $g(t)$, which is a the natural state variable of the curve interpolation:\n",
    "\n",
    "$$ \\frac{\\partial v}{\\partial{\\bs q}} = \\frac{\\partial v}{\\partial \\bs g} \\frac{\\partial \\bs g}{\\partial \\bs b} \\frac{\\partial \\bs b}{\\partial \\bs q} = \\frac{\\partial v}{\\partial \\bs g} \\left(\\frac{\\partial \\bs b}{\\partial \\bs g}\\right)^{-1}\\frac{\\partial \\bs b}{\\partial \\bs q} $$\n",
    "\n",
    "* $\\bs g$ is the value of $g(t)$ at the benchmark tenors\n",
    "* the $\\frac{\\partial \\bs q}{\\partial \\bs b}$ is a diagonal matrix of 1/PV01"
   ]
  },
  {
   "cell_type": "markdown",
   "metadata": {
    "slideshow": {
     "slide_type": "subslide"
    }
   },
   "source": [
    "## Fast delta calculation\n",
    "\n",
    "$$ \\frac{\\partial v}{\\partial{\\bs q}}  = \\frac{\\partial v}{\\partial \\bs g} \\left(\\frac{\\partial \\bs b}{\\partial \\bs g}\\right)^{-1}\\frac{\\partial \\bs b}{\\partial \\bs q} $$\n",
    "\n",
    "* the right hand side is much easier to compute than $\\frac{\\partial v}{\\partial \\bs q}$\n",
    "* RHS no longer requires re-bootstrapping the curves\n",
    "\n",
    "The same Deltas are computed at a much lower cost that the brute-force bump and recalc."
   ]
  },
  {
   "cell_type": "code",
   "execution_count": 31,
   "metadata": {},
   "outputs": [
    {
     "data": {
      "text/html": [
       "<center><font size=2><table border=\"1\" class=\"dataframe\">\n",
       "  <thead>\n",
       "    <tr style=\"text-align: right;\">\n",
       "      <th></th>\n",
       "      <th>5Y ZCB</th>\n",
       "      <th>CDS @0.25Y</th>\n",
       "      <th>CDS @0.5Y</th>\n",
       "      <th>CDS @1Y</th>\n",
       "      <th>CDS @2Y</th>\n",
       "      <th>CDS @3Y</th>\n",
       "      <th>CDS @5Y</th>\n",
       "      <th>CDS @7Y</th>\n",
       "      <th>CDS @10Y</th>\n",
       "    </tr>\n",
       "  </thead>\n",
       "  <tbody>\n",
       "    <tr>\n",
       "      <th>$\\delta$ to $g(t)$</th>\n",
       "      <td>23.29</td>\n",
       "      <td>14.79</td>\n",
       "      <td>21.39</td>\n",
       "      <td>46.59</td>\n",
       "      <td>43.09</td>\n",
       "      <td>185.00</td>\n",
       "      <td>353.27</td>\n",
       "      <td>-11.77</td>\n",
       "      <td>0.25</td>\n",
       "    </tr>\n",
       "    <tr>\n",
       "      <th>$\\delta$ to quoted spreads</th>\n",
       "      <td>390.43</td>\n",
       "      <td>3.38</td>\n",
       "      <td>9.88</td>\n",
       "      <td>45.11</td>\n",
       "      <td>69.88</td>\n",
       "      <td>871.55</td>\n",
       "      <td>3,744.18</td>\n",
       "      <td>-202.84</td>\n",
       "      <td>7.68</td>\n",
       "    </tr>\n",
       "    <tr>\n",
       "      <th>Inverted $\\delta$ to q.s.</th>\n",
       "      <td>390.43</td>\n",
       "      <td>3.38</td>\n",
       "      <td>9.88</td>\n",
       "      <td>45.11</td>\n",
       "      <td>69.88</td>\n",
       "      <td>871.68</td>\n",
       "      <td>3,744.57</td>\n",
       "      <td>-203.01</td>\n",
       "      <td>7.69</td>\n",
       "    </tr>\n",
       "  </tbody>\n",
       "</table></font></center>"
      ],
      "text/plain": [
       "<IPython.core.display.HTML object>"
      ]
     },
     "metadata": {},
     "output_type": "display_data"
    }
   ],
   "source": [
    "def calcCurveDelta(ir, cds, lbd, trades, pert=1e-4) :\n",
    "    mkt, mktp, pkeys, _ = inst.pert_curve(ir, cds, pert) \n",
    "    deltas, _ = inst.pv_deltas(mkt, mktp, trades)\n",
    "\n",
    "    return deltas/pert, pkeys, cds\n",
    "\n",
    "deltas_c, _, _ = calcCurveDelta(disc, cds, lbdm, bmks + [bespoke])\n",
    "pv01m_c = deltas_c[:-1, :]\n",
    "pv01_c = np.diag(pv01m_c)\n",
    "db_c = deltas_c[-1, :]\n",
    "id_c = db_c.dot(np.linalg.inv(pv01m_c)).dot(pv01m)\n",
    "\n",
    "hn_c = pd.DataFrame(np.array([db_c, db, id_c]).T*1e-4*notional, index=hi_names,\n",
    "                      columns=['$\\delta$ to $g(t)$', '$\\delta$ to quoted spreads', \n",
    "                               'Inverted $\\delta$ to q.s.']).T\n",
    "\n",
    "fmt.displayDF(hn_c, \"2f\")"
   ]
  },
  {
   "cell_type": "markdown",
   "metadata": {
    "slideshow": {
     "slide_type": "slide"
    }
   },
   "source": [
    "# Hedge Optimization\n",
    "\n",
    "Edmund North: there's a difference between a gamble and a calculated risk."
   ]
  },
  {
   "cell_type": "markdown",
   "metadata": {
    "slideshow": {
     "slide_type": "subslide"
    }
   },
   "source": [
    "## Cost of hedging\n",
    "\n",
    "Hedging are costly in practice\n",
    "\n",
    "* bid/ask, capital, financing, rebalancing  etc\n",
    "\n",
    "But not hedging is usually more costly\n",
    "\n",
    "We need to minimize the cost of hedging\n",
    " * desks/traders often choose not to zero out all unwanted risks\n",
    " * there are only a limited number of liquid and cost effective hedging instruments\n",
    "\n",
    "How to get the best results using a limited number of hedging instruments?"
   ]
  },
  {
   "cell_type": "markdown",
   "metadata": {
    "slideshow": {
     "slide_type": "fragment"
    }
   },
   "source": [
    "define what is best first,"
   ]
  },
  {
   "cell_type": "markdown",
   "metadata": {
    "slideshow": {
     "slide_type": "subslide"
    }
   },
   "source": [
    "## Hedge optimization\n",
    "\n",
    "We can formulate the problem as an optimization problem:\n",
    "\n",
    "* a set of benchmark instruments $\\bs b$ with quotes $\\bs q$\n",
    "* limited set of hedging instruments $\\bs u$, whose deltas to $\\bs q$ is the Jacobian $J = \\frac{\\partial \\bs u}{\\partial \\bs q}$ \n",
    " * the dimension of $\\bs u$ is smaller than $\\bs q$, $J$ is rectangular\n",
    "* the portfolio PV is $v$ and its deltas are: $\\bs d = (\\frac{\\partial v}{\\partial \\bs q})^T$\n",
    "* we use $\\bs h$ to represent the best replicating portfolio, it has the same dimension as $\\bs u$\n",
    "  * the hedging portfolio is of course $-\\bs h$"
   ]
  },
  {
   "cell_type": "markdown",
   "metadata": {
    "slideshow": {
     "slide_type": "subslide"
    }
   },
   "source": [
    "## Partial hedge\n",
    "\n",
    "Partial hedge is to take the subset of the full hedging portfolio, keeping notionals unchanged.\n",
    "\n",
    "* simple, but it is a starting point\n",
    "* we can use it as a baseline to evaluate other hedging strategies\n",
    "\n",
    "\n",
    "Can we apply PCA?"
   ]
  },
  {
   "cell_type": "markdown",
   "metadata": {
    "slideshow": {
     "slide_type": "fragment"
    }
   },
   "source": [
    "* Yes, just zero out the PVs for the first few PCs of the covariance of changes.\n",
    "* People actually do this in practice"
   ]
  },
  {
   "cell_type": "markdown",
   "metadata": {
    "slideshow": {
     "slide_type": "subslide"
    }
   },
   "source": [
    "## Minimize the residual risk\n",
    "\n",
    "The residual risk is the remaining risk after including the hedges, we can find a replicating portfolio that minimizes its L-2 norm:\n",
    "\n",
    "$$\\min_{\\bs h} \\Vert J^T \\bs {h - d} \\Vert_2$$\n",
    "\n",
    "* a standard least square problem, the solution is:\n",
    "\n",
    "$$ \\bs h = (JJ^T)^{-1}J\\bs d $$\n",
    "\n",
    "* this approach is simple and useful in practice\n",
    "\n",
    "Ridge regression is an easy improvement, by adding a penalty of $\\lambda \\Vert W \\bs h \\Vert_2^2$:\n",
    "\n",
    "$$ \\bs h = (JJ^T + \\lambda W^T W)^{-1}J\\bs d $$"
   ]
  },
  {
   "cell_type": "markdown",
   "metadata": {
    "slideshow": {
     "slide_type": "subslide"
    }
   },
   "source": [
    "## Minimize the variance\n",
    "\n",
    "Given the covariance matrix $V$ of the risk factors $\\bs q$'s *daily changes*, the variance of the hedged portfolio is:\n",
    "\n",
    "$$\\text{var} = (J^T \\bs {h - d})^T V (J^T \\bs {h - d})$$\n",
    "\n",
    "The optimal replicating portfolio that minimizes the var is:\n",
    "\n",
    "$$\\small \\begin{array}\n",
    "\\\\ \\frac{\\partial \\text{var}}{\\partial \\bs h} &= 2(J^T \\bs {h - d})^T V \\frac{\\partial(J^T \\bs {h - d})}{\\partial \\bs h} = 2(J^T \\bs {h - d})^T V J^T = \\bs 0 \\\\\n",
    "\\bs h^T JVJ^T &= \\bs d^T V J^T \\iff\n",
    "JVJ^T \\bs h = J V \\bs d \\\\\n",
    "\\bs h &= (JVJ^T)^{-1} J V \\bs d\n",
    "\\end{array}$$\n",
    "\n",
    "* this approach takes into account the covariance of risk factors.\n",
    "\n",
    "The Ridge version is:\n",
    "\n",
    "$$\\bs h = (JVJ^T + \\lambda W^T W)^{-1} J V \\bs d $$"
   ]
  },
  {
   "cell_type": "markdown",
   "metadata": {
    "slideshow": {
     "slide_type": "subslide"
    }
   },
   "source": [
    "## Numerical example\n",
    "\n",
    "We use the previous example to illustrate the effects of different hedges. \n",
    "\n",
    "* Suppose only the ZCB and 5Y CDS are cost effective to trade\n",
    "  * not an uncommon situation in the credit market\n",
    "* Our bank's system only computes risks to par CDS spreads, but the hedging instruments are the standardised CDS\n",
    "* The bespoke trade is long $10MM, 4.5Y and 500bps\n",
    "\n",
    "The Jacobian $J = \\frac{\\partial \\bs u}{\\partial \\bs p}$ is:"
   ]
  },
  {
   "cell_type": "code",
   "execution_count": 32,
   "metadata": {},
   "outputs": [
    {
     "data": {
      "text/html": [
       "<center><font size=2><table border=\"1\" class=\"dataframe\">\n",
       "  <thead>\n",
       "    <tr style=\"text-align: right;\">\n",
       "      <th></th>\n",
       "      <th>IR</th>\n",
       "      <th>CDS @0.25Y</th>\n",
       "      <th>CDS @0.50Y</th>\n",
       "      <th>CDS @1Y</th>\n",
       "      <th>CDS @2Y</th>\n",
       "      <th>CDS @3Y</th>\n",
       "      <th>CDS @5Y</th>\n",
       "      <th>CDS @7Y</th>\n",
       "      <th>CDS @10Y</th>\n",
       "    </tr>\n",
       "  </thead>\n",
       "  <tbody>\n",
       "    <tr>\n",
       "      <th>ZCB</th>\n",
       "      <td>4.525</td>\n",
       "      <td>0</td>\n",
       "      <td>0</td>\n",
       "      <td>0</td>\n",
       "      <td>0</td>\n",
       "      <td>0</td>\n",
       "      <td>0</td>\n",
       "      <td>0</td>\n",
       "      <td>0</td>\n",
       "    </tr>\n",
       "    <tr>\n",
       "      <th>5Y CDS</th>\n",
       "      <td>-0.3067</td>\n",
       "      <td>-0.002196</td>\n",
       "      <td>-0.006453</td>\n",
       "      <td>-0.02874</td>\n",
       "      <td>-0.07083</td>\n",
       "      <td>-0.1771</td>\n",
       "      <td>3.999</td>\n",
       "      <td>0.009446</td>\n",
       "      <td>-0.0003262</td>\n",
       "    </tr>\n",
       "  </tbody>\n",
       "</table></font></center>"
      ],
      "text/plain": [
       "<IPython.core.display.HTML object>"
      ]
     },
     "metadata": {},
     "output_type": "display_data"
    }
   ],
   "source": [
    "hi = np.array([0, 6])\n",
    "hnm = ['ZCB', '5Y CDS']\n",
    "jac = np.array(pv01m_p)[hi, :].T\n",
    "lsqm = np.linalg.inv(jac.T.dot(jac)).dot(jac.T)\n",
    "fmt.displayDF(pd.DataFrame(jac.T, index = hnm, columns=pert_names), \"4g\")"
   ]
  },
  {
   "cell_type": "markdown",
   "metadata": {
    "slideshow": {
     "slide_type": "subslide"
    }
   },
   "source": [
    "## A stylized market\n",
    "\n",
    "Correlation of daily rates changes:"
   ]
  },
  {
   "cell_type": "code",
   "execution_count": 33,
   "metadata": {},
   "outputs": [
    {
     "data": {
      "text/html": [
       "<center><font size=2><table border=\"1\" class=\"dataframe\">\n",
       "  <thead>\n",
       "    <tr style=\"text-align: right;\">\n",
       "      <th></th>\n",
       "      <th>5Y ZCB</th>\n",
       "      <th>CDS @0.25Y</th>\n",
       "      <th>CDS @0.5Y</th>\n",
       "      <th>CDS @1Y</th>\n",
       "      <th>CDS @2Y</th>\n",
       "      <th>CDS @3Y</th>\n",
       "      <th>CDS @5Y</th>\n",
       "      <th>CDS @7Y</th>\n",
       "      <th>CDS @10Y</th>\n",
       "    </tr>\n",
       "  </thead>\n",
       "  <tbody>\n",
       "    <tr>\n",
       "      <th>5Y ZCB</th>\n",
       "      <td>1</td>\n",
       "      <td>0</td>\n",
       "      <td>0</td>\n",
       "      <td>0</td>\n",
       "      <td>0</td>\n",
       "      <td>0</td>\n",
       "      <td>0</td>\n",
       "      <td>0</td>\n",
       "      <td>0</td>\n",
       "    </tr>\n",
       "    <tr>\n",
       "      <th>CDS @0.25Y</th>\n",
       "      <td>0</td>\n",
       "      <td>1</td>\n",
       "      <td>0.98</td>\n",
       "      <td>0.96</td>\n",
       "      <td>0.941</td>\n",
       "      <td>0.922</td>\n",
       "      <td>0.904</td>\n",
       "      <td>0.886</td>\n",
       "      <td>0.868</td>\n",
       "    </tr>\n",
       "    <tr>\n",
       "      <th>CDS @0.5Y</th>\n",
       "      <td>0</td>\n",
       "      <td>0.98</td>\n",
       "      <td>1</td>\n",
       "      <td>0.98</td>\n",
       "      <td>0.96</td>\n",
       "      <td>0.941</td>\n",
       "      <td>0.922</td>\n",
       "      <td>0.904</td>\n",
       "      <td>0.886</td>\n",
       "    </tr>\n",
       "    <tr>\n",
       "      <th>CDS @1Y</th>\n",
       "      <td>0</td>\n",
       "      <td>0.96</td>\n",
       "      <td>0.98</td>\n",
       "      <td>1</td>\n",
       "      <td>0.98</td>\n",
       "      <td>0.96</td>\n",
       "      <td>0.941</td>\n",
       "      <td>0.922</td>\n",
       "      <td>0.904</td>\n",
       "    </tr>\n",
       "    <tr>\n",
       "      <th>CDS @2Y</th>\n",
       "      <td>0</td>\n",
       "      <td>0.941</td>\n",
       "      <td>0.96</td>\n",
       "      <td>0.98</td>\n",
       "      <td>1</td>\n",
       "      <td>0.98</td>\n",
       "      <td>0.96</td>\n",
       "      <td>0.941</td>\n",
       "      <td>0.922</td>\n",
       "    </tr>\n",
       "    <tr>\n",
       "      <th>CDS @3Y</th>\n",
       "      <td>0</td>\n",
       "      <td>0.922</td>\n",
       "      <td>0.941</td>\n",
       "      <td>0.96</td>\n",
       "      <td>0.98</td>\n",
       "      <td>1</td>\n",
       "      <td>0.98</td>\n",
       "      <td>0.96</td>\n",
       "      <td>0.941</td>\n",
       "    </tr>\n",
       "    <tr>\n",
       "      <th>CDS @5Y</th>\n",
       "      <td>0</td>\n",
       "      <td>0.904</td>\n",
       "      <td>0.922</td>\n",
       "      <td>0.941</td>\n",
       "      <td>0.96</td>\n",
       "      <td>0.98</td>\n",
       "      <td>1</td>\n",
       "      <td>0.98</td>\n",
       "      <td>0.96</td>\n",
       "    </tr>\n",
       "    <tr>\n",
       "      <th>CDS @7Y</th>\n",
       "      <td>0</td>\n",
       "      <td>0.886</td>\n",
       "      <td>0.904</td>\n",
       "      <td>0.922</td>\n",
       "      <td>0.941</td>\n",
       "      <td>0.96</td>\n",
       "      <td>0.98</td>\n",
       "      <td>1</td>\n",
       "      <td>0.98</td>\n",
       "    </tr>\n",
       "    <tr>\n",
       "      <th>CDS @10Y</th>\n",
       "      <td>0</td>\n",
       "      <td>0.868</td>\n",
       "      <td>0.886</td>\n",
       "      <td>0.904</td>\n",
       "      <td>0.922</td>\n",
       "      <td>0.941</td>\n",
       "      <td>0.96</td>\n",
       "      <td>0.98</td>\n",
       "      <td>1</td>\n",
       "    </tr>\n",
       "  </tbody>\n",
       "</table></font></center>"
      ],
      "text/plain": [
       "<IPython.core.display.HTML object>"
      ]
     },
     "metadata": {},
     "output_type": "display_data"
    }
   ],
   "source": [
    "n = len(hi_names)\n",
    "\n",
    "corr = np.fromfunction(lambda i, j : .98**(abs(i-j)), (n, n))\n",
    "corr[0, 1:] = corr[1:, 0] = 0\n",
    "sig = np.eye(n)*15e-4\n",
    "sig[0, 0] = 5e-4\n",
    "cov = sig.dot(corr).dot(sig.T)\n",
    "fmt.displayDF(pd.DataFrame(corr, index=hi_names, columns=hi_names), \"3g\")\n",
    "\n",
    "varm = np.linalg.inv(jac.T.dot(cov).dot(jac)).dot(jac.T).dot(cov)\n",
    "opt_var = varm.dot(db_p)"
   ]
  },
  {
   "cell_type": "markdown",
   "metadata": {
    "slideshow": {
     "slide_type": "-"
    }
   },
   "source": [
    "Std dev of daily rates changes: \n",
    "* interest rate: 5bps \n",
    "* CDS spreads for all tenors: 15bps"
   ]
  },
  {
   "cell_type": "markdown",
   "metadata": {
    "slideshow": {
     "slide_type": "subslide"
    }
   },
   "source": [
    "## Optimal hedges\n",
    "\n",
    "* The optimal hedging portfolios (in \\$MM) using different methods for the bespoke trade:"
   ]
  },
  {
   "cell_type": "code",
   "execution_count": 34,
   "metadata": {},
   "outputs": [
    {
     "data": {
      "text/html": [
       "<center><font size=2><table border=\"1\" class=\"dataframe\">\n",
       "  <thead>\n",
       "    <tr style=\"text-align: right;\">\n",
       "      <th></th>\n",
       "      <th>Unhedged</th>\n",
       "      <th>Partial hedge</th>\n",
       "      <th>Min residual risk</th>\n",
       "      <th>Min var</th>\n",
       "    </tr>\n",
       "  </thead>\n",
       "  <tbody>\n",
       "    <tr>\n",
       "      <th>ZCB</th>\n",
       "      <td>-0.000</td>\n",
       "      <td>-0.863</td>\n",
       "      <td>-0.872</td>\n",
       "      <td>-1.020</td>\n",
       "    </tr>\n",
       "    <tr>\n",
       "      <th>5Y CDS</th>\n",
       "      <td>-0.000</td>\n",
       "      <td>-8.853</td>\n",
       "      <td>-8.793</td>\n",
       "      <td>-10.974</td>\n",
       "    </tr>\n",
       "  </tbody>\n",
       "</table></font></center>"
      ],
      "text/plain": [
       "<IPython.core.display.HTML object>"
      ]
     },
     "metadata": {},
     "output_type": "display_data"
    }
   ],
   "source": [
    "opt_l2 = lsqm.dot(db_p).T\n",
    "opt_ph = (db/pv01)[hi]\n",
    "opt_pfs = [np.zeros(len(opt_l2)), opt_ph, opt_l2, opt_var]\n",
    "\n",
    "l2 = np.array([np.linalg.norm(jac.dot(np.array(p)) - db_p, 2) for p in opt_pfs])*1e-4\n",
    "vv = np.array([(jac.dot(np.array(p)) - db_p).T.dot(cov).dot((jac.dot(np.array(p)) - db_p)) \n",
    "               for p in opt_pfs])\n",
    "\n",
    "df_opt = pd.DataFrame(np.array(opt_pfs).T, index=hnm, \n",
    "                      columns=['Unhedged', 'Partial hedge', 'Min residual risk', 'Min var']).T\n",
    "\n",
    "df_opt['L2 norm of residual risk'] = l2\n",
    "df_opt['Std dev of daily PnL'] = np.sqrt(vv)\n",
    "\n",
    "fmt.displayDF(-df_opt.iloc[:, :-2].T*notional*1e-6, \"3f\")"
   ]
  },
  {
   "cell_type": "markdown",
   "metadata": {},
   "source": [
    "* The performances of these portfolios matches our expectations"
   ]
  },
  {
   "cell_type": "code",
   "execution_count": 35,
   "metadata": {},
   "outputs": [
    {
     "data": {
      "text/html": [
       "<center><font size=2><table border=\"1\" class=\"dataframe\">\n",
       "  <thead>\n",
       "    <tr style=\"text-align: right;\">\n",
       "      <th></th>\n",
       "      <th>Unhedged</th>\n",
       "      <th>Partial hedge</th>\n",
       "      <th>Min residual risk</th>\n",
       "      <th>Min var</th>\n",
       "    </tr>\n",
       "  </thead>\n",
       "  <tbody>\n",
       "    <tr>\n",
       "      <th>L2 norm of residual risk</th>\n",
       "      <td>3,633.3</td>\n",
       "      <td>891.42</td>\n",
       "      <td>891.07</td>\n",
       "      <td>1,247.5</td>\n",
       "    </tr>\n",
       "    <tr>\n",
       "      <th>Std dev of daily PnL</th>\n",
       "      <td>61,511</td>\n",
       "      <td>12,292</td>\n",
       "      <td>12,615</td>\n",
       "      <td>3,179.6</td>\n",
       "    </tr>\n",
       "  </tbody>\n",
       "</table></font></center>"
      ],
      "text/plain": [
       "<IPython.core.display.HTML object>"
      ]
     },
     "metadata": {},
     "output_type": "display_data"
    }
   ],
   "source": [
    "fmt.displayDF(df_opt.iloc[:, -2:].T*notional, \"5g\")"
   ]
  },
  {
   "cell_type": "markdown",
   "metadata": {},
   "source": [
    "* The variance minimization is an effective hedging strategy."
   ]
  },
  {
   "cell_type": "markdown",
   "metadata": {
    "slideshow": {
     "slide_type": "subslide"
    }
   },
   "source": [
    "## Theta\n",
    "\n",
    "In practice, we usually don't actively hedge Theta, instead we monitor it\n",
    "\n",
    "* Source of Theta includes reduction in maturity and accrual of coupon \n",
    "* The passing of time is not volatile, it is not considered a risk factor\n",
    "* Different hedges can lead to different theta profile\n",
    "* It is neither feasible nor necessary to maintain a flat theta\n",
    " \n",
    "Theta and convexity are often the trade off.\n",
    "* Positive theta usually means negative convexity, and vice versa"
   ]
  },
  {
   "cell_type": "markdown",
   "metadata": {
    "slideshow": {
     "slide_type": "slide"
    }
   },
   "source": [
    "# Brownian Bridge"
   ]
  },
  {
   "cell_type": "markdown",
   "metadata": {
    "slideshow": {
     "slide_type": "subslide"
    }
   },
   "source": [
    "## Interpolate the Brownian motion\n",
    "\n",
    "Sometimes, we want to interpolate stochastically using Brownian motion:\n",
    "\n",
    "* Fill in missing historical data\n",
    "* Pricing model needs finer steps than what the simulation model produces\n",
    "* the exact stochastic path is costly to compute, we want to approximate the true path using larger sampling steps\n",
    "\n",
    "Suppose $\\bs w(t)$ is a n-dimensional brownian motion, and $\\bs v_T$ is its (known) terminal value, then:\n",
    "\n",
    "$$ \\bs w_b(t) = \\bs w(t) - \\frac{t}{T} (\\bs w(T) - \\bs v_T)$$ \n",
    "\n",
    "is the Brownian Bridge. Note that $\\bs w(t)$ can be correlated."
   ]
  },
  {
   "cell_type": "markdown",
   "metadata": {
    "slideshow": {
     "slide_type": "subslide"
    }
   },
   "source": [
    "## Examples of Brownian Bridge\n",
    "\n",
    "A one dimensional Brownian Bridge with $w(1) = 10$:"
   ]
  },
  {
   "cell_type": "code",
   "execution_count": 36,
   "metadata": {},
   "outputs": [
    {
     "data": {
      "image/png": "[encoded data removed]",
      "text/plain": [
       "<matplotlib.figure.Figure at 0x7fcd44202208>"
      ]
     },
     "metadata": {},
     "output_type": "display_data"
    }
   ],
   "source": [
    "nt = 100\n",
    "w = np.cumsum(np.random.normal(size=[1000, nt]), 1)\n",
    "dt = arange(nt)/nt\n",
    "\n",
    "figure(figsize=[12, 4])\n",
    "subplot(1, 2, 1)\n",
    "plot(dt, w[:3, :].T, label=\"_nolegend_\")\n",
    "plot(dt, np.std(w, 0), 'k', linewidth=2)\n",
    "legend([\"std dev\"])\n",
    "title(\"$w(t)$\")\n",
    "xlabel(\"$t$\")\n",
    "\n",
    "ve = 10\n",
    "subplot(1, 2, 2)\n",
    "b = np.array([p - (p[-1] - ve)*dt for p in w])\n",
    "plot(dt, b[:3, :].T, label=\"_nolegend_\")\n",
    "plot(dt, np.std(b, 0), 'k', linewidth=2)\n",
    "legend([\"std dev\"])\n",
    "title(\"$b(t)$\")\n",
    "xlabel(\"$t$\");"
   ]
  },
  {
   "cell_type": "markdown",
   "metadata": {
    "slideshow": {
     "slide_type": "slide"
    }
   },
   "source": [
    "# Numerical Integration"
   ]
  },
  {
   "cell_type": "markdown",
   "metadata": {
    "slideshow": {
     "slide_type": "subslide"
    }
   },
   "source": [
    "## Quadrature rules\n",
    "\n",
    "To compute the definite integral of a one dimensional function:\n",
    "\n",
    "$$ \\int_a^b f(x) dx $$\n",
    "\n",
    "* Rectangle rule: $ \\int_a^b f(x) dx \\approx (b-a)f(b) $\n",
    "* Trapezoidal rule:  $ \\int_a^b f(x) dx \\approx (b-a)\\frac{f(a) + f(b)}{2} $\n",
    "* Simpson's rule: $\\int_a^b f(x) dx \\approx \\frac{b-a}{6}[f(a) + 4 f(\\frac{a+b}{2}) + f(b)] $\n",
    "\n",
    "In practice, there is almost never a need to go beyond the Simpson's rule.\n",
    "\n",
    "* We sometime run into (nearly) discontinuous $f(x)$, where the simple Trapezoidal rule works very well.\n",
    "* Adaptive method can be used to achieve a desired level of accuracy"
   ]
  },
  {
   "cell_type": "markdown",
   "metadata": {
    "slideshow": {
     "slide_type": "subslide"
    }
   },
   "source": [
    "## Accuracy of numerical integration"
   ]
  },
  {
   "cell_type": "markdown",
   "metadata": {},
   "source": [
    "If the interval $[a, b]$ is divided into $N$ equal steps, then the numerical errors of the $\\int_a^b f(x) dx$ for smooth function $f(x)$ are:\n",
    "\n",
    "| Rectangle | Trapezoidal | Simpson |\n",
    "| :-----: | :------: | :------: |\n",
    "| $O(\\frac{1}{N})$ | $O(\\frac{1}{N^2})$ | $O(\\frac{1}{N^4})$ |"
   ]
  },
  {
   "cell_type": "code",
   "execution_count": 37,
   "metadata": {
    "slideshow": {
     "slide_type": "-"
    }
   },
   "outputs": [
    {
     "data": {
      "image/png": "[encoded data removed]",
      "text/plain": [
       "<matplotlib.figure.Figure at 0x7fcd442c7048>"
      ]
     },
     "metadata": {},
     "output_type": "display_data"
    }
   ],
   "source": [
    "import lin\n",
    "\n",
    "def plotIntegral(f, x, xs, lines) :\n",
    "    plot(xs, f(xs))\n",
    "    \n",
    "    for k, l in lines.items() :\n",
    "        l.build(x, f(x))\n",
    "        plot(xs, l(xs))\n",
    "        \n",
    "    legend(['$f(x)$'] + list(lines.keys()), loc='best')\n",
    "\n",
    "intRules = {\"Rect\":lin.PiecewiseFlat(), \"Trapozoidal\":lin.PiecewiseLinear(), \"Simpson\":lin.Quadratic()}\n",
    "\n",
    "f = np.sin\n",
    "x0 = 0.\n",
    "x1 = 4.\n",
    "dx = 2.\n",
    "\n",
    "x = np.arange(x0, x1 + 1e-10, dx/2)\n",
    "xs = np.arange(x0, x1 + 1e-10, .02)\n",
    "\n",
    "figure(figsize=[12, 4])\n",
    "subplot(1, 2, 1)\n",
    "plotIntegral(f, x, xs, intRules)\n",
    "plot(x, f(x), 'o');\n",
    "\n",
    "subplot(1, 2, 2)\n",
    "x = np.arange(x0, x1 + 1e-10, dx/4)\n",
    "plotIntegral(f, x, xs, intRules)\n",
    "plot(x, f(x), 'o');"
   ]
  },
  {
   "cell_type": "markdown",
   "metadata": {
    "slideshow": {
     "slide_type": "slide"
    }
   },
   "source": [
    "# Assignment\n",
    "\n",
    "Recommended Reading:\n",
    "\n",
    "* Andersen and Piterbarg: 6.4\n",
    "\n",
    "Homework:\n",
    "\n",
    "* Complete [homework set 5](http://yadongli.github.io/nyumath2048/)"
   ]
  }
 ],
 "metadata": {
  "celltoolbar": "Slideshow",
  "kernelspec": {
   "display_name": "Python 3",
   "language": "python",
   "name": "python3"
  },
  "language_info": {
   "codemirror_mode": {
    "name": "ipython",
    "version": 3
   },
   "file_extension": ".py",
   "mimetype": "text/x-python",
   "name": "python",
   "nbconvert_exporter": "python",
   "pygments_lexer": "ipython3",
   "version": "3.6.1"
  }
 },
 "nbformat": 4,
 "nbformat_minor": 1
}
