{
 "cells": [
  {
   "cell_type": "markdown",
   "metadata": {
    "slideshow": {
     "slide_type": "slide"
    }
   },
   "source": [
    "# Python Setup\n",
    "\n",
    "Step by step instruction for setting up the Python environment for the class."
   ]
  },
  {
   "cell_type": "markdown",
   "metadata": {
    "slideshow": {
     "slide_type": "slide"
    }
   },
   "source": [
    "## Class Materials\n",
    "\n",
    "All the class materials are available at:\n",
    "\n",
    "* lecture slides/homework assignments: http://yadongli.github.io/nyumath2048/\n",
    "* IPython notebook github repository: https://github.com/yadongli/nyumath2048/\n",
    "\n",
    "The lecture slides are all generated from the IPython notebooks sources. You can get a copy of the source by:\n",
    "\n",
    "* using the git command line tool: \n",
    "  * install git command line tool from http://git-scm.com/book/en/v2/Getting-Started-Installing-Git\n",
    "  * clone the source code to your local folder by issue the following command, which creates a new folder of nyumath2048, and downloads all the source files from github:\n",
    "  \n",
    "```git clone http://github.com/yadongli/nyumath2048.git```\n",
    "\n",
    "  * After you git clone the source, you can get the incremental updates by:\n",
    "  \n",
    "```git pull```\n",
    "\n",
    "It is recommended for you to pull periodically as we will be publishing new materials and homeworks througout the class."
   ]
  },
  {
   "cell_type": "markdown",
   "metadata": {
    "slideshow": {
     "slide_type": "slide"
    }
   },
   "source": [
    "## Python Installation\n",
    "\n",
    "**Python version 3.6.x or above**\n",
    "* Python 3.x is not backward compatible\n",
    "* either 32bit or 64bit version works, 64bit is recommended \n",
    "\n",
    "Recommend using a Python distribution:\n",
    "\n",
    "* <a href=http://continuum.io/downloads>Anaconda</a>: a popular free Python distribution\n",
    "\n",
    "The Anaconda distribution comes with necessary packages like Jupyter/numpy/pandas etc. \n",
    "\n",
    "* Anaconda comes with command line package manager ```conda```\n",
    "* <a href=https://pypi.python.org/pypi/pip>pip</a> can be used to install Python packages that are not part of Anaconda distribution (rarely needed)"
   ]
  },
  {
   "cell_type": "markdown",
   "metadata": {
    "slideshow": {
     "slide_type": "subslide"
    }
   },
   "source": [
    "## Python code/data for the class\n",
    "\n",
    "The python code and data are in the subfolder lib and data under your nyumath2048 folder, after you check out nyumath2048 from git.\n",
    "\n",
    "<span style=\"color:red\">**VERY IMPORTANT:** You need to create an environment variable PYTHONPATH and add the full path to your local nyumath2048/lib folder to your PYTHONPATH.</span>\n",
    "\n",
    "* this step allows python interpretor to find the python modules for the class\n",
    "* you won't be able to run the class Jupyter/IPython notebook without finishing this step\n",
    "\n",
    "If you don't know what environment variable is or how to create it in your OS, google it"
   ]
  },
  {
   "cell_type": "markdown",
   "metadata": {
    "slideshow": {
     "slide_type": "subslide"
    }
   },
   "source": [
    "## Use Jupyter/IPython Notebook\n",
    "\n",
    "\n",
    "Jupyter notebook is a versatile and productive environment for scientific computing. IPython is Jupyter's specialization for Python programming language. All the lecture slides are created from Jupyter/IPython notebook, and all the homework will be done in Jupyter/IPython notebook.\n",
    "\n",
    "The following link is a step by step tutorial of Jupyter/IPython notebook, which will be heavily used in the class. Please follow the tutorial to familiarize yourself with Jupyter notebook, matplotlib and pandas:\n",
    "\n",
    "https://www.dataquest.io/blog/jupyter-notebook-tutorial/\n",
    "\n",
    "The following is the official documentation of IPython, it is also worthwhile to go through:\n",
    "\n",
    "http://ipython.readthedocs.org/en/stable/interactive/tutorial.html\n",
    "\n",
    "and Google is another exellent source for any Python or Jupyter/IPython questions. \n",
    "\n",
    "* Jupyter/IPython notebook works with newer versions of all major browsers. (IE older than version 10 does not work)"
   ]
  },
  {
   "cell_type": "markdown",
   "metadata": {
    "slideshow": {
     "slide_type": "subslide"
    }
   },
   "source": [
    "## Useful IPython tips\n",
    "\n",
    "The combination of #2 and #3 below is a very efficient way to debug your python code within IPython notebook.\n",
    "\n",
    "1. ```%pylab inline```: inline placement of figures, ideal for printing and presentation\n",
    "2. ```%qtconsole```: start a separate ipython qtconsole that shares the same states with the IPython notebook\n",
    "3. ```%pdb```: the latest IPython notebook version (>4.0.0) does support interactive debugger. You can also run it from qtconole.\n",
    "4. you can mix $\\LaTeX$ direct with markdown text by surrounding them with `$` or `$$`.\n",
    "5. [sympy](https://www.sympy.org/en/index.html) is a useful symbolic math library. It can create complicated $\\LaTeX$ formulae programatically (see [Lecture 4](https://nbviewer.jupyter.org/github/yadongli/nyumath2048/blob/master/Lecture4.ipynb) as an example)"
   ]
  },
  {
   "cell_type": "markdown",
   "metadata": {
    "slideshow": {
     "slide_type": "slide"
    }
   },
   "source": [
    "## Online resources\n",
    "\n",
    "The following online Python tutorials are highly recommended.\n",
    "\n",
    "Python language: \n",
    "http://histo.ucsf.edu/BMS270/diveintopython3-r802.pdf\n",
    "\n",
    "Numpy: \n",
    "http://scipy.org/Tentative_NumPy_Tutorial\n",
    "\n",
    "IPython: \n",
    "http://www.youtube.com/watch?v=26wgEsg9Mcc\n",
    "\n",
    "Pandas: \n",
    "http://pandas.pydata.org/pandas-docs/dev/10min.html\n",
    "\n",
    "and Google:\n",
    "* you can find answers to (almost) all your python questions by googling it"
   ]
  }
 ],
 "metadata": {
  "celltoolbar": "Slideshow",
  "kernelspec": {
   "display_name": "Python 3",
   "language": "python",
   "name": "python3"
  },
  "language_info": {
   "codemirror_mode": {
    "name": "ipython",
    "version": 3
   },
   "file_extension": ".py",
   "mimetype": "text/x-python",
   "name": "python",
   "nbconvert_exporter": "python",
   "pygments_lexer": "ipython3",
   "version": "3.6.7"
  }
 },
 "nbformat": 4,
 "nbformat_minor": 1
}
