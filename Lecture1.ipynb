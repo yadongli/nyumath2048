{
 "cells": [
  {
   "cell_type": "markdown",
   "metadata": {
    "slideshow": {
     "slide_type": "slide"
    }
   },
   "source": [
    "# Scientific Computing in Finance\n",
    "\n",
    "* MATH-GA 2048, Spring 2019\n",
    "* Courant Institute of Mathematical Sciences, New York University"
   ]
  },
  {
   "cell_type": "markdown",
   "metadata": {
    "slideshow": {
     "slide_type": "subslide"
    }
   },
   "source": [
    "## Instructors\n",
    "\n",
    "#### Yadong Li\n",
    "* MD, Head of Trading Central, Quantitative Analytics, Barclays\n",
    "* Ph.D. in Physics, M.S. in Computer Sciences, University of Wisconsin-Madison\n",
    "* Master of Financial Engineering, University of California, Berkeley \n",
    "\n",
    "#### Hongwei Cheng\n",
    "* Chief Risk Officer, Head of Research, Mill Hill Capital\n",
    "* Ph.D. in Applied Mathematics, New York University"
   ]
  },
  {
   "cell_type": "markdown",
   "metadata": {
    "slideshow": {
     "slide_type": "slide"
    }
   },
   "source": [
    "# Lecture 1: Introduction\n",
    "\n",
    "## Topics\n",
    "\n",
    "* Introduction\n",
    "* Software development practices\n",
    "* Errors and floating point computation"
   ]
  },
  {
   "cell_type": "markdown",
   "metadata": {
    "slideshow": {
     "slide_type": "subslide"
    }
   },
   "source": [
    "## Objectives of this class\n",
    "\n",
    "* Teach fundamental principles of scientific computing\n",
    "* Teach the most common numerical techniques in quantitative Finance \n",
    "* Develop intuitions and essential skills using real world examples\n",
    "* Help students to start a career in quantitative Finance"
   ]
  },
  {
   "cell_type": "markdown",
   "metadata": {
    "slideshow": {
     "slide_type": "subslide"
    }
   },
   "source": [
    "## We expect you\n",
    "\n",
    "\n",
    "* Know basic calculus and linear algebra\n",
    "* Know basic stochastic calculus and derivative pricing theories\n",
    "* Have some prior programming experience\n",
    "* Are willing to learn through hard work"
   ]
  },
  {
   "cell_type": "markdown",
   "metadata": {
    "slideshow": {
     "slide_type": "subslide"
    }
   },
   "source": [
    "## Main fields of quantitative finance\n",
    "\n",
    "* Derivative pricing and hedging\n",
    "* Risk management, regulatory capital and stress testing\n",
    "* Portfolio management\n",
    "* Quantitative strategy/Algo trading\n",
    "* Behavior models\n",
    "\n",
    "We will cover many topics in the first three fields."
   ]
  },
  {
   "cell_type": "markdown",
   "metadata": {
    "slideshow": {
     "slide_type": "subslide"
    }
   },
   "source": [
    "## Main topics in this class\n",
    "\n",
    "A rough schedule of the class:\n",
    "\n",
    "| Week | Main Topics | Practical Problems | Instructor |\n",
    "| :----: | :-----: | :-----: | :-----: |\n",
    "| 1 | Introduction and Error Analysis | Error and floating point numbers | Y. Li |\n",
    "| 2-3 | Linear Algebra | Portfolio optimization, PCA, least square | Y. Li |\n",
    "| 4-5 | Rootfinding and interpolation | Curve building | Y. Li |\n",
    "| 6 | Derivatives and integration | Hedging, Risk Transformation | Y. Li |\n",
    "| 7-8 | Monte Carlo simulation | Exotic pricing | Y. Li |\n",
    "| 9-10 | Optimization | Model calibration | H. Cheng |\n",
    "| 11-12 | ODE/PDE | Pricing | H. Cheng |\n",
    "| 13 | Entropy and Allocation | Advanced practical problems | Y. Li |"
   ]
  },
  {
   "cell_type": "markdown",
   "metadata": {
    "slideshow": {
     "slide_type": "subslide"
    }
   },
   "source": [
    "## Text book\n",
    "\n",
    "D Bindel and J Goodman, 2009\n",
    "\n",
    "* Principles of scientific computing [online book](http://www.cs.nyu.edu/courses/spring09/G22.2112-001/book/book.pdf)\n",
    "\n",
    "  \n",
    "## References\n",
    "\n",
    "L Anderson and V. Piterbarg, 2010\n",
    "\n",
    "* Interest rate modeling, volume I: Foundations and Vanilla Models \n",
    "* Interest rate modeling, volume II: Vanilla Models\n",
    "  \n",
    "P. Glasserman 2010\n",
    "  \n",
    "* Monte Carlo method in Financial Engineering\n"
   ]
  },
  {
   "cell_type": "markdown",
   "metadata": {
    "slideshow": {
     "slide_type": "subslide"
    }
   },
   "source": [
    "## Lecture notes and homework\n",
    "\n",
    "Available online at: http://yadongli.github.io/nyumath2048\n",
    "\n",
    "\n",
    "## Grading\n",
    "* Homework 50%, can be done by groups of two students\n",
    "* Final 50% \n",
    "* Extra credits \n",
    " * extra credit homework problems\n",
    " * for pointing out errors in slides/homework"
   ]
  },
  {
   "cell_type": "markdown",
   "metadata": {
    "slideshow": {
     "slide_type": "slide"
    }
   },
   "source": [
    "# Software Development Practices\n",
    "\n",
    "Roberto Waltman: In the one and only true way. The object-oriented version of \"Spaghetti code\" is, of course, \"Lasagna code\". "
   ]
  },
  {
   "cell_type": "markdown",
   "metadata": {
    "slideshow": {
     "slide_type": "subslide"
    }
   },
   "source": [
    "## Modern hardware\n",
    "\n",
    "* Processor speed/throughput continues to grow at an impressive rate\n",
    " * Moore's law has ruled for a long time\n",
    " * recent trends: multi-core, GPU, TPU\n",
    "* Memory capacity continues to grow, but memory speed only grows at a (relatively) slow rate\n",
    "\n",
    "Memory hierarchy\n",
    "\n",
    "| Storage | Bandwidth | Latency | Capacity |\n",
    "| :-----: | --------: | --: | ---: | \n",
    "| L-1 Cache |  98GB/s | 4 cycles | 32K/core |\n",
    "| L-2 Cache |  50GB/s | 10 cycles | 256K/core |\n",
    "| L-3 Cache |  30GB/s | 40 - 75 cycles | 8MB shared |\n",
    "| RAM | 15GB/s | 60-100 ns | ~TB |\n",
    "| SDD | up to 4GB/s | ~0.1ms | $\\infty$ |\n",
    "| Network | up to 12GB/s | much longer | $\\infty$ |"
   ]
  },
  {
   "cell_type": "markdown",
   "metadata": {
    "slideshow": {
     "slide_type": "subslide"
    }
   },
   "source": [
    "## On high performance computing\n",
    "\n",
    "* Understand if the problem is computation or bandwidth bound\n",
    " * Most problems in practice are bandwidth bound\n",
    "* Computation bound problems:\n",
    " * caching\n",
    " * vectorization/parallelization/GPU\n",
    " * optimize your \"computational kernel\"\n",
    "* Bandwidth bound problems:\n",
    " * optimize cache and memory access\n",
    " * require highly specialized skills and low level programming (like in C/C++/Fortran)\n",
    "* Premature optimization for speed is the root of all evil\n",
    " * Simplicity, generality and scalability of the code are often sacrificed\n",
    " * Execution speed is often not the most critical factor in most circumstances"
   ]
  },
  {
   "cell_type": "markdown",
   "metadata": {
    "slideshow": {
     "slide_type": "subslide"
    }
   },
   "source": [
    "## Before optimizing for speed\n",
    "\n",
    "* Correctness\n",
    "    - \"those who would give up correctness for a little temporary performance deserve neither correctness nor performance\"\n",
    "    - \"the greatest performance improvement of all is when system goes from not-working to working\"\n",
    "* Modifiability\n",
    "    - \"modification is undesirable but modifiability is paramount\"\n",
    "    - modular design, learn from hardware designers\n",
    "* Simplicity\n",
    "    - no obvious defects is not the same as obviously no defects\n",
    "* Other desirable features:\n",
    "    - Scalability, robustness, Easy support and maintenance etc."
   ]
  },
  {
   "cell_type": "markdown",
   "metadata": {
    "slideshow": {
     "slide_type": "subslide"
    }
   },
   "source": [
    "In practice, what often trumps everything else is: \n",
    "\n",
    "## Time to market !!\n",
    "\n",
    "* First mover has significant advantage: Facebook, Google etc."
   ]
  },
  {
   "cell_type": "markdown",
   "metadata": {
    "slideshow": {
     "slide_type": "subslide"
    }
   },
   "source": [
    "## Conventional advice for programming\n",
    "\n",
    "* Choose good names for your variables and functions\n",
    "* Write comments and documents\n",
    "* Write good tests\n",
    "* Keep coding style consistent"
   ]
  },
  {
   "cell_type": "markdown",
   "metadata": {
    "slideshow": {
     "slide_type": "fragment"
    }
   },
   "source": [
    "These are good advice, but quite superficial. \n",
    "\n",
    "* all of them have been compromised, even in very successful projects\n",
    "* they are usually not the critical differentiator between successes and failures"
   ]
  },
  {
   "cell_type": "markdown",
   "metadata": {
    "slideshow": {
     "slide_type": "subslide"
    }
   },
   "source": [
    "## Best advice for the real world:\n",
    "\n",
    "by Paul Phillips \"We're doing it all wrong\":\n",
    "\n",
    "(quoting George Orwell's 1984)"
   ]
  },
  {
   "cell_type": "markdown",
   "metadata": {
    "slideshow": {
     "slide_type": "subslide"
    }
   },
   "source": [
    "#### War is peace\n",
    " * Fight your war at the boundary so that you can have peace within\n",
    " * Challenge your clients to reduce the scope of your deliverable\n",
    " * Define a minimal set of interactions to the outside world\n",
    " \n",
    "#### Ignorance is strength\n",
    " * Design dumb modules that only do one thing\n",
    " * Keep it simple and stupid\n",
    " * Separation of concerns, modular\n",
    " \n",
    "#### Freedom is slavery\n",
    " * Must be disciplined in testing, code review, releases etc. \n",
    " * Limit the interface of your module (or external commitments)\n",
    " * Freedom $\\rightarrow$ possibilities $\\rightarrow$ complexity $\\rightarrow$ unmodifiable code $\\rightarrow$ slavery"
   ]
  },
  {
   "cell_type": "markdown",
   "metadata": {
    "slideshow": {
     "slide_type": "subslide"
    }
   },
   "source": [
    "## Less is more\n",
    "\n",
    "Sun Tzu (孙子): \"the supreme art of quant modeling is to solve problems without coding\"\n"
   ]
  },
  {
   "cell_type": "markdown",
   "metadata": {
    "slideshow": {
     "slide_type": "subslide"
    }
   },
   "source": [
    "## Choose the right programming tools\n",
    "\n",
    "* Programming paradigm: procedural, OOP, functional\n",
    "* Expressivity: fewer lines of code for the same functionality\n",
    "* Ecosystem: library, tools, community, industry support\n",
    "\n",
    "There is no single right answer\n",
    "\n",
    "* Different job calls for different tools\n",
    "* But most of the time, the choice is already made (by someone else)"
   ]
  },
  {
   "cell_type": "markdown",
   "metadata": {
    "slideshow": {
     "slide_type": "subslide"
    }
   },
   "source": [
    "## Expressivity\n",
    "\n",
    "$$ $$\n",
    "\n",
    "<center>\n",
    "<img src=\"img/proglang.png\" width=500 height=500>\n",
    "</center>\n",
    "\n",
    "When you have the opportunity, choose the more expressive language for the job."
   ]
  },
  {
   "cell_type": "markdown",
   "metadata": {
    "slideshow": {
     "slide_type": "subslide"
    }
   },
   "source": [
    "Eric Raymond, \"How to Become a Hacker\":\n",
    "\n",
    "\"Lisp is worth learning for the profound enlightenment experience you will have when you finally get it; that experience will make you a better programmer for the rest of your days, even if you never actually use Lisp itself a lot.\"\n",
    "\n",
    "- Clojure is a modern implementation of Lisp\n",
    "- Julia is a very promising new language, heavily influenced by Lisp"
   ]
  },
  {
   "cell_type": "markdown",
   "metadata": {
    "slideshow": {
     "slide_type": "subslide"
    }
   },
   "source": [
    "## We use Python for this class\n",
    "\n",
    "Python\n",
    "\n",
    "* a powerful dynamic and strongly typed scripting language \n",
    "* extremely popular in scientific computing\n",
    "* strong momentum in quantitative finance\n",
    "* highly productive, low learning curve\n",
    "\n",
    "Python ecosystem\n",
    "\n",
    "* numpy/scipy: high quality matrix and numerical library\n",
    "* matplotlib: powerful visualization library\n",
    "* Jupyter notebook: highly productive interactive working environment\n",
    "* Pandas: powerful data and time series analysis package\n",
    "* Machine learning frameworks: Tensorflow, PyTorch, Scikit-learn etc."
   ]
  },
  {
   "cell_type": "markdown",
   "metadata": {
    "slideshow": {
     "slide_type": "subslide"
    }
   },
   "source": [
    "Python resources\n",
    "\n",
    "* Anaconda: a popular Python distribution with essential packages, best choice\n",
    "* Enthought Canopy: a commercial Python distribution, free for students\n",
    "* Google and Youtube\n",
    "\n",
    "Python version:\n",
    "\n",
    "* ** Python 3.6.x or higher ** : python is not backward compatible, do not use Python 2\n",
    "* With the latest Jupyter notebook, numpy/pandas/scipy etc.\n",
    "* either 32bit or 64bit version works\n",
    "\n",
    "Python setup instructions:\n",
    "\n",
    "* available at: http://yadongli.github.io/nyumath2048"
   ]
  },
  {
   "cell_type": "markdown",
   "metadata": {
    "slideshow": {
     "slide_type": "slide"
    }
   },
   "source": [
    "# Errors and floating point computation\n",
    "\n",
    "\n",
    "James Gosling: \"95% of the folks out there are completely clueless about floating-point\""
   ]
  },
  {
   "cell_type": "markdown",
   "metadata": {
    "slideshow": {
     "slide_type": "subslide"
    }
   },
   "source": [
    "## Absolute and relative error\n",
    "\n",
    "If the true value $a$ is approximated by $\\hat{a}$: \n",
    "\n",
    "* Absolute error: $\\hat{a} - a$\n",
    "* Relative error: $\\frac{\\hat{a} - a}{a}$\n",
    "\n",
    "Both measure are useful in practice.\n",
    "\n",
    "* Beware of small $|a|$ when comparing relative errors"
   ]
  },
  {
   "cell_type": "markdown",
   "metadata": {
    "slideshow": {
     "slide_type": "subslide"
    }
   },
   "source": [
    "## Sources of error\n",
    "\n",
    "Imprecision in the theory or model itself\n",
    "\n",
    "* George Box: \"essentially, all models are wrong, but some are useful\"\n",
    "\n",
    "Errors in numerical algorithm\n",
    "\n",
    "* Convergence error\n",
    " * Monte Carlo simulation\n",
    " * Numerical integration\n",
    "* Truncation and discretization\n",
    "* Termination of iterations\n",
    "\n",
    "Error due to machine representation\n",
    "\n",
    "* Floating point number\n",
    "* Rounding\n",
    " \n",
    "We cover the last category in this lecture."
   ]
  },
  {
   "cell_type": "markdown",
   "metadata": {
    "slideshow": {
     "slide_type": "subslide"
    }
   },
   "source": [
    "## IEEE 754 in a nutshell\n",
    "\n",
    "First published in 1985, the IEEE 754 standard includes:\n",
    "\n",
    "* Floating point number representations \n",
    "  * 16bit, 32bit, 64bit etc\n",
    "  * special representation for NaN, Inf etc\n",
    "* Rounding rules\n",
    "* Basic operations\n",
    "  * arithmetic: add, multiplication, sqrt etc\n",
    "  * conversion: btw formats, to/from string etc\n",
    "* Exception handling\n",
    "  * invalid operation, divide by zero, overflow, underflow, inexact\n",
    "  * the operation returns a value (could be NaN, Inf or 0), and set an error flag"
   ]
  },
  {
   "cell_type": "markdown",
   "metadata": {
    "slideshow": {
     "slide_type": "subslide"
    }
   },
   "source": [
    "## Rounding under IEEE754\n",
    "\n",
    "Default rule: round to the nearest, ties to even digit\n",
    "* Example, round to 4 significant digit(bit): \n",
    " * decimal: $3.12450 \\rightarrow 3.1240$, $435150 \\rightarrow 435200$ \n",
    " * binary: $10.11100 \\rightarrow 11.00$, $1100100 \\rightarrow 1100000 $\n",
    "* Addition and multiplication are commutative with rounding, but not associative\n",
    "* Intermediate calculations could be done at higher precision to minimize numerical error, if supported by the hardware\n",
    "  * Intel CPU's FPU can use 80bit representation for intermediate calculations, even if input/outputs are in 64/32 bit floats\n",
    "  * Early version of Java (before v1.2) enforces intermediate calculation to be in 32/64bits for float/double for binary compatibility - a poor choice"
   ]
  },
  {
   "cell_type": "markdown",
   "metadata": {
    "slideshow": {
     "slide_type": "subslide"
    }
   },
   "source": [
    "## Importance of IEEE 754  \n",
    "\n",
    "IEEE 754 is a tremendously successful standard:\n",
    "* Allows users to consistently reason about floating point computation\n",
    "  * before IEEE 754, floating point number calculation behaves differently across different platforms\n",
    "* IEEE 754 made compromise for practicality\n",
    "  * many of them do not make strict mathematical sense\n",
    "  * but they are necessary evils for the greater goods\n",
    "* Establishes a clear interface between hardware designers and software developers\n",
    "* Its main designer, William Kahan won the Turing award in 1989"
   ]
  },
  {
   "cell_type": "markdown",
   "metadata": {
    "slideshow": {
     "slide_type": "subslide"
    }
   },
   "source": [
    "The IEEE 754 standard is widely adopted in modern hardware and software,\n",
    "\n",
    "* The vast majority of general purpose CPUs are IEEE 754 compliant\n",
    "* Software is more complicated  \n",
    "  * Compiled language like C++ depends on the hardware's implementation.\n",
    "  * Some software implemented their own special behaviours, e.g., the Java strictfp flag"
   ]
  },
  {
   "cell_type": "markdown",
   "metadata": {
    "slideshow": {
     "slide_type": "subslide"
    }
   },
   "source": [
    "## IEEE 754 floating point number format\n",
    "\n",
    "* IEEE floating point number standard\n",
    "\n",
    "$$\\underbrace{*}_{\\text{sign bit}}\\;\\underbrace{********}_{\\text{exponent}}\\overbrace{\\;1.\\;}^{\\text{implicit}}\\;\\underbrace{***********************}_{\\text{fraction}}\n",
    "$$\n",
    "\n",
    "$$(-1)^{\\text{sign}}(\\text{1 + fraction})2^{\\text{exponent} - p}$$\n",
    "\n",
    "* 32 bit vs. 64 bit format\n",
    "\n",
    "| Format | Sign | Fraction | Exponent | $p$ | (Exponent-p) range |\n",
    "| :----: | ---: | ----------: | -------: | --------: | :--: |\n",
    "| IEEE 754 - 32 bit | 1    |      23     |   8      |  127 | -126 to 127 |\n",
    "| IEEE 754 - 64 bit | 1    |      52     |   11     | 1023 | -1022 to 1023 |\n",
    "\n",
    "* an implicit leading bit of 1 and the binary point before fraction bits\n",
    "* 0 and max exponent reserved for special interpretations: 0, NaN, Inf etc."
   ]
  },
  {
   "cell_type": "markdown",
   "metadata": {
    "slideshow": {
     "slide_type": "subslide"
    }
   },
   "source": [
    "## Examples of floating numbers"
   ]
  },
  {
   "cell_type": "code",
   "execution_count": 3,
   "metadata": {
    "slideshow": {
     "slide_type": "skip"
    }
   },
   "outputs": [
    {
     "name": "stdout",
     "output_type": "stream",
     "text": [
      "Populating the interactive namespace from numpy and matplotlib\n"
     ]
    }
   ],
   "source": [
    "# need to do \"pip install bitstring\"\n",
    "%pylab inline\n",
    "\n",
    "import bitstring\n",
    "import pandas as pd\n",
    "import numpy as np\n",
    "import fmt\n",
    "import math, sys\n",
    "\n",
    "pd.set_option(\"display.max_colwidth\", 80)\n",
    "\n",
    "def parts2f(sign, e, sig) :\n",
    "    return ((-1)**sign*sig*2.**e)\n",
    "\n",
    "def f2parts(v, flen) :\n",
    "    ps = {32: 9, 64 : 12}\n",
    "    ed = ps[flen]\n",
    "    eoff = 2**(ed - 2) - 1\n",
    "\n",
    "    f1 = bitstring.BitArray(float=v, length=flen)\n",
    "    signb = f1[:1]\n",
    "    sigb = f1[ed:]\n",
    "    eb = f1[1:ed]\n",
    "    sig = (1. + 1.*sigb.uint/(2**(flen-ed))) if eb.uint > 0 else 2.*sigb.uint/(2**(flen-ed))\n",
    "    e = eb.uint - eoff\n",
    "    \n",
    "    bins = np.array([signb.bin, eb.bin, sigb.bin])\n",
    "    vals = np.array([1-signb.uint*2, e, sig])\n",
    "    \n",
    "    fmt.displayDF(pd.DataFrame(np.array([bins, vals]).T, columns=['Bits', 'Decimal'], \n",
    "                               index=[\"Sign\", \"Exp\", \"Fraction\"]).T)"
   ]
  },
  {
   "cell_type": "markdown",
   "metadata": {},
   "source": [
    "f2parts takes a floating number and its bit length (32 or 64) and shows the three parts. "
   ]
  },
  {
   "cell_type": "code",
   "execution_count": 4,
   "metadata": {
    "slideshow": {
     "slide_type": "-"
    }
   },
   "outputs": [
    {
     "data": {
      "text/html": [
       "<center><font size=2><table border=\"1\" class=\"dataframe\">\n",
       "  <thead>\n",
       "    <tr style=\"text-align: right;\">\n",
       "      <th></th>\n",
       "      <th>Sign</th>\n",
       "      <th>Exp</th>\n",
       "      <th>Fraction</th>\n",
       "    </tr>\n",
       "  </thead>\n",
       "  <tbody>\n",
       "    <tr>\n",
       "      <th>Bits</th>\n",
       "      <td>0</td>\n",
       "      <td>10000010</td>\n",
       "      <td>01010110011001100110011</td>\n",
       "    </tr>\n",
       "    <tr>\n",
       "      <th>Decimal</th>\n",
       "      <td>1.0</td>\n",
       "      <td>3.0</td>\n",
       "      <td>1.337499976158142</td>\n",
       "    </tr>\n",
       "  </tbody>\n",
       "</table></font></center>"
      ],
      "text/plain": [
       "<IPython.core.display.HTML object>"
      ]
     },
     "metadata": {},
     "output_type": "display_data"
    }
   ],
   "source": [
    "f2parts(10.7, 32);"
   ]
  },
  {
   "cell_type": "code",
   "execution_count": 5,
   "metadata": {},
   "outputs": [
    {
     "data": {
      "text/html": [
       "<center><font size=2><table border=\"1\" class=\"dataframe\">\n",
       "  <thead>\n",
       "    <tr style=\"text-align: right;\">\n",
       "      <th></th>\n",
       "      <th>Sign</th>\n",
       "      <th>Exp</th>\n",
       "      <th>Fraction</th>\n",
       "    </tr>\n",
       "  </thead>\n",
       "  <tbody>\n",
       "    <tr>\n",
       "      <th>Bits</th>\n",
       "      <td>1</td>\n",
       "      <td>10000001101</td>\n",
       "      <td>0110111001010101000000000000000000000000000000000000</td>\n",
       "    </tr>\n",
       "    <tr>\n",
       "      <th>Decimal</th>\n",
       "      <td>-1.0</td>\n",
       "      <td>14.0</td>\n",
       "      <td>1.4309844970703125</td>\n",
       "    </tr>\n",
       "  </tbody>\n",
       "</table></font></center>"
      ],
      "text/plain": [
       "<IPython.core.display.HTML object>"
      ]
     },
     "metadata": {},
     "output_type": "display_data"
    }
   ],
   "source": [
    "f2parts(-23445.25, 64)"
   ]
  },
  {
   "cell_type": "markdown",
   "metadata": {
    "slideshow": {
     "slide_type": "subslide"
    }
   },
   "source": [
    "## Range and precision\n",
    "\n",
    "* The range of floating point number are usually adequate in practice\n",
    " * the whole universe only have $10^{80}$ protons ...\n",
    "* The machine precision is the more commonly encountered limitation\n",
    " * machine precision $\\epsilon_m$ is the maximum $\\epsilon$ that makes $1 + \\epsilon = 1$"
   ]
  },
  {
   "cell_type": "code",
   "execution_count": 6,
   "metadata": {
    "slideshow": {
     "slide_type": "fragment"
    }
   },
   "outputs": [
    {
     "data": {
      "text/html": [
       "<center><font size=2><table border=\"1\" class=\"dataframe\">\n",
       "  <thead>\n",
       "    <tr style=\"text-align: right;\">\n",
       "      <th></th>\n",
       "      <th>Min</th>\n",
       "      <th>Max</th>\n",
       "      <th>Machine Precision</th>\n",
       "      <th># of Significant Digits</th>\n",
       "    </tr>\n",
       "  </thead>\n",
       "  <tbody>\n",
       "    <tr>\n",
       "      <th>32 bit</th>\n",
       "      <td>1.1755e-38</td>\n",
       "      <td>3.4028e+38</td>\n",
       "      <td>5.9605e-08</td>\n",
       "      <td>7.2247</td>\n",
       "    </tr>\n",
       "    <tr>\n",
       "      <th>64 bit</th>\n",
       "      <td>2.2251e-308</td>\n",
       "      <td>1.7977e+308</td>\n",
       "      <td>1.1102e-16</td>\n",
       "      <td>15.955</td>\n",
       "    </tr>\n",
       "  </tbody>\n",
       "</table></font></center>"
      ],
      "text/plain": [
       "<IPython.core.display.HTML object>"
      ]
     },
     "metadata": {},
     "output_type": "display_data"
    }
   ],
   "source": [
    "prec32 = 2**(-24)\n",
    "prec64 = 2**(-53)\n",
    "\n",
    "f32 = [parts2f(0, -126, 1), parts2f(0, 254-127, (2.-prec32*2)), prec32, -np.log10(prec32)]\n",
    "f64 = [parts2f(0, -1022, 1), parts2f(0, 2046-1023, (2.-prec64*2)), prec64, -np.log10(prec64)]\n",
    "\n",
    "fmt.displayDF(pd.DataFrame(np.array([f32, f64]), index=['32 bit', '64 bit'], \n",
    "                           columns=[\"Min\", \"Max\", \"Machine Precision\", \"# of Significant Digits\"]), \"5g\")"
   ]
  },
  {
   "cell_type": "markdown",
   "metadata": {
    "slideshow": {
     "slide_type": "subslide"
    }
   },
   "source": [
    "## Examples of floating point representations"
   ]
  },
  {
   "cell_type": "code",
   "execution_count": 7,
   "metadata": {
    "slideshow": {
     "slide_type": "-"
    }
   },
   "outputs": [
    {
     "data": {
      "text/html": [
       "<center><font size=2><table border=\"1\" class=\"dataframe\">\n",
       "  <thead>\n",
       "    <tr style=\"text-align: right;\">\n",
       "      <th></th>\n",
       "      <th>Sign</th>\n",
       "      <th>Exp</th>\n",
       "      <th>Fraction</th>\n",
       "    </tr>\n",
       "  </thead>\n",
       "  <tbody>\n",
       "    <tr>\n",
       "      <th>Bits</th>\n",
       "      <td>1</td>\n",
       "      <td>00000000</td>\n",
       "      <td>00000000000000000000000</td>\n",
       "    </tr>\n",
       "    <tr>\n",
       "      <th>Decimal</th>\n",
       "      <td>-1.0</td>\n",
       "      <td>-127.0</td>\n",
       "      <td>0.0</td>\n",
       "    </tr>\n",
       "  </tbody>\n",
       "</table></font></center>"
      ],
      "text/plain": [
       "<IPython.core.display.HTML object>"
      ]
     },
     "metadata": {},
     "output_type": "display_data"
    }
   ],
   "source": [
    "f2parts(-0., 32);"
   ]
  },
  {
   "cell_type": "code",
   "execution_count": 8,
   "metadata": {
    "slideshow": {
     "slide_type": "-"
    }
   },
   "outputs": [
    {
     "data": {
      "text/html": [
       "<center><font size=2><table border=\"1\" class=\"dataframe\">\n",
       "  <thead>\n",
       "    <tr style=\"text-align: right;\">\n",
       "      <th></th>\n",
       "      <th>Sign</th>\n",
       "      <th>Exp</th>\n",
       "      <th>Fraction</th>\n",
       "    </tr>\n",
       "  </thead>\n",
       "  <tbody>\n",
       "    <tr>\n",
       "      <th>Bits</th>\n",
       "      <td>0</td>\n",
       "      <td>11111111</td>\n",
       "      <td>10000000000000000000000</td>\n",
       "    </tr>\n",
       "    <tr>\n",
       "      <th>Decimal</th>\n",
       "      <td>1.0</td>\n",
       "      <td>128.0</td>\n",
       "      <td>1.5</td>\n",
       "    </tr>\n",
       "  </tbody>\n",
       "</table></font></center>"
      ],
      "text/plain": [
       "<IPython.core.display.HTML object>"
      ]
     },
     "metadata": {},
     "output_type": "display_data"
    }
   ],
   "source": [
    "f2parts(np.NaN, 32);"
   ]
  },
  {
   "cell_type": "code",
   "execution_count": 9,
   "metadata": {
    "slideshow": {
     "slide_type": "subslide"
    }
   },
   "outputs": [
    {
     "data": {
      "text/html": [
       "<center><font size=2><table border=\"1\" class=\"dataframe\">\n",
       "  <thead>\n",
       "    <tr style=\"text-align: right;\">\n",
       "      <th></th>\n",
       "      <th>Sign</th>\n",
       "      <th>Exp</th>\n",
       "      <th>Fraction</th>\n",
       "    </tr>\n",
       "  </thead>\n",
       "  <tbody>\n",
       "    <tr>\n",
       "      <th>Bits</th>\n",
       "      <td>1</td>\n",
       "      <td>11111111</td>\n",
       "      <td>00000000000000000000000</td>\n",
       "    </tr>\n",
       "    <tr>\n",
       "      <th>Decimal</th>\n",
       "      <td>-1.0</td>\n",
       "      <td>128.0</td>\n",
       "      <td>1.0</td>\n",
       "    </tr>\n",
       "  </tbody>\n",
       "</table></font></center>"
      ],
      "text/plain": [
       "<IPython.core.display.HTML object>"
      ]
     },
     "metadata": {},
     "output_type": "display_data"
    }
   ],
   "source": [
    "f2parts(-np.Inf, 32);"
   ]
  },
  {
   "cell_type": "code",
   "execution_count": 10,
   "metadata": {
    "slideshow": {
     "slide_type": "-"
    }
   },
   "outputs": [
    {
     "data": {
      "text/html": [
       "<center><font size=2><table border=\"1\" class=\"dataframe\">\n",
       "  <thead>\n",
       "    <tr style=\"text-align: right;\">\n",
       "      <th></th>\n",
       "      <th>Sign</th>\n",
       "      <th>Exp</th>\n",
       "      <th>Fraction</th>\n",
       "    </tr>\n",
       "  </thead>\n",
       "  <tbody>\n",
       "    <tr>\n",
       "      <th>Bits</th>\n",
       "      <td>1</td>\n",
       "      <td>00000000</td>\n",
       "      <td>00000000000000001000111</td>\n",
       "    </tr>\n",
       "    <tr>\n",
       "      <th>Decimal</th>\n",
       "      <td>-1.0</td>\n",
       "      <td>-127.0</td>\n",
       "      <td>1.6927719116210938e-05</td>\n",
       "    </tr>\n",
       "  </tbody>\n",
       "</table></font></center>"
      ],
      "text/plain": [
       "<IPython.core.display.HTML object>"
      ]
     },
     "metadata": {},
     "output_type": "display_data"
    }
   ],
   "source": [
    "f2parts(-1e-43, 32);"
   ]
  },
  {
   "cell_type": "markdown",
   "metadata": {
    "slideshow": {
     "slide_type": "subslide"
    }
   },
   "source": [
    "## Floating point computing is NOT exact"
   ]
  },
  {
   "cell_type": "code",
   "execution_count": 11,
   "metadata": {
    "slideshow": {
     "slide_type": "-"
    }
   },
   "outputs": [
    {
     "name": "stdout",
     "output_type": "stream",
     "text": [
      "b == c? False !\n",
      "b - c = -1.110223e-16\n"
     ]
    }
   ],
   "source": [
    "a = 1./3\n",
    "b = a + a + 1. - 1.\n",
    "c = 2*a\n",
    "print(\"b == c? {} !\".format(b == c))\n",
    "print(\"b - c = {:e}\".format(b - c))"
   ]
  },
  {
   "cell_type": "code",
   "execution_count": 12,
   "metadata": {
    "slideshow": {
     "slide_type": "fragment"
    }
   },
   "outputs": [
    {
     "data": {
      "text/html": [
       "<center><font size=2><table border=\"1\" class=\"dataframe\">\n",
       "  <thead>\n",
       "    <tr style=\"text-align: right;\">\n",
       "      <th></th>\n",
       "      <th>Sign</th>\n",
       "      <th>Exp</th>\n",
       "      <th>Fraction</th>\n",
       "    </tr>\n",
       "  </thead>\n",
       "  <tbody>\n",
       "    <tr>\n",
       "      <th>Bits</th>\n",
       "      <td>0</td>\n",
       "      <td>01111111110</td>\n",
       "      <td>0101010101010101010101010101010101010101010101010100</td>\n",
       "    </tr>\n",
       "    <tr>\n",
       "      <th>Decimal</th>\n",
       "      <td>1.0</td>\n",
       "      <td>-1.0</td>\n",
       "      <td>1.333333333333333</td>\n",
       "    </tr>\n",
       "  </tbody>\n",
       "</table></font></center>"
      ],
      "text/plain": [
       "<IPython.core.display.HTML object>"
      ]
     },
     "metadata": {},
     "output_type": "display_data"
    }
   ],
   "source": [
    "f2parts(b, 64);"
   ]
  },
  {
   "cell_type": "code",
   "execution_count": 13,
   "metadata": {
    "slideshow": {
     "slide_type": "fragment"
    }
   },
   "outputs": [
    {
     "data": {
      "text/html": [
       "<center><font size=2><table border=\"1\" class=\"dataframe\">\n",
       "  <thead>\n",
       "    <tr style=\"text-align: right;\">\n",
       "      <th></th>\n",
       "      <th>Sign</th>\n",
       "      <th>Exp</th>\n",
       "      <th>Fraction</th>\n",
       "    </tr>\n",
       "  </thead>\n",
       "  <tbody>\n",
       "    <tr>\n",
       "      <th>Bits</th>\n",
       "      <td>0</td>\n",
       "      <td>01111111110</td>\n",
       "      <td>0101010101010101010101010101010101010101010101010101</td>\n",
       "    </tr>\n",
       "    <tr>\n",
       "      <th>Decimal</th>\n",
       "      <td>1.0</td>\n",
       "      <td>-1.0</td>\n",
       "      <td>1.3333333333333333</td>\n",
       "    </tr>\n",
       "  </tbody>\n",
       "</table></font></center>"
      ],
      "text/plain": [
       "<IPython.core.display.HTML object>"
      ]
     },
     "metadata": {},
     "output_type": "display_data"
    }
   ],
   "source": [
    "f2parts(c, 64);"
   ]
  },
  {
   "cell_type": "markdown",
   "metadata": {
    "slideshow": {
     "slide_type": "subslide"
    }
   },
   "source": [
    "## Can't handle numbers too large or small"
   ]
  },
  {
   "cell_type": "code",
   "execution_count": 14,
   "metadata": {
    "slideshow": {
     "slide_type": "-"
    }
   },
   "outputs": [
    {
     "name": "stdout",
     "output_type": "stream",
     "text": [
      "inverse of 1.000000e-308 is 1.000000e+308\n"
     ]
    }
   ],
   "source": [
    "x = 1e-308\n",
    "print(\"inverse of {:e} is {:e}\".format(x, 1/x))"
   ]
  },
  {
   "cell_type": "code",
   "execution_count": 15,
   "metadata": {
    "slideshow": {
     "slide_type": "-"
    }
   },
   "outputs": [
    {
     "name": "stdout",
     "output_type": "stream",
     "text": [
      "inverse of 1.000000e-309 is inf\n"
     ]
    }
   ],
   "source": [
    "x = 1e-309\n",
    "print(\"inverse of {:e} is {:e}\".format(x, 1/x))"
   ]
  },
  {
   "cell_type": "markdown",
   "metadata": {
    "slideshow": {
     "slide_type": "subslide"
    }
   },
   "source": [
    "## Limited precision\n",
    "\n",
    "* Small number (in relative sense) is lost in addition and subtraction"
   ]
  },
  {
   "cell_type": "code",
   "execution_count": 16,
   "metadata": {
    "slideshow": {
     "slide_type": "-"
    }
   },
   "outputs": [
    {
     "name": "stdout",
     "output_type": "stream",
     "text": [
      "False\n"
     ]
    }
   ],
   "source": [
    "print(1. - 1e-16 == 1.)"
   ]
  },
  {
   "cell_type": "code",
   "execution_count": 17,
   "metadata": {
    "slideshow": {
     "slide_type": "-"
    }
   },
   "outputs": [
    {
     "name": "stdout",
     "output_type": "stream",
     "text": [
      "True\n"
     ]
    }
   ],
   "source": [
    "print(1. + 1e-16 == 1.)"
   ]
  },
  {
   "cell_type": "code",
   "execution_count": 18,
   "metadata": {
    "slideshow": {
     "slide_type": "subslide"
    }
   },
   "outputs": [
    {
     "name": "stdout",
     "output_type": "stream",
     "text": [
      "Integer arithmetic:\n",
      "a =  265252859812191058636308480000000\n",
      "a - 4294967295 == a ? False\n",
      "\n",
      "Floating point arithmetic:\n",
      "b =  2.6525285981219107e+32\n",
      "b - 4294967295 == b ? True\n"
     ]
    }
   ],
   "source": [
    "largeint = 2**32 - 1\n",
    "\n",
    "print(\"Integer arithmetic:\")\n",
    "a = math.factorial(30) # in Python's bignum\n",
    "print(\"a = \", a)\n",
    "print(\"a - {:d} == a ?\".format(largeint), (a - largeint) == a)\n",
    "\n",
    "print(\"\\nFloating point arithmetic:\")\n",
    "b = float(math.factorial(30))\n",
    "print(\"b = \", b)\n",
    "print(\"b - {:d} == b ?\".format(largeint), (b - largeint) == b)"
   ]
  },
  {
   "cell_type": "markdown",
   "metadata": {
    "slideshow": {
     "slide_type": "subslide"
    }
   },
   "source": [
    "## Subtle errors\n",
    "\n",
    "The limited precision can cause subtle errors that are puzzling even for experienced programmers."
   ]
  },
  {
   "cell_type": "code",
   "execution_count": 19,
   "metadata": {},
   "outputs": [
    {
     "name": "stdout",
     "output_type": "stream",
     "text": [
      "a =  [0. 1.]\n",
      "a/3 =  [0.         0.33333333]\n"
     ]
    }
   ],
   "source": [
    "a = np.arange(0, 3. - 1., 1.)\n",
    "print(\"a = \", a)\n",
    "print(\"a/3 = \", a/3.)"
   ]
  },
  {
   "cell_type": "code",
   "execution_count": 20,
   "metadata": {},
   "outputs": [
    {
     "name": "stdout",
     "output_type": "stream",
     "text": [
      "b =  [0.         0.33333333 0.66666667]\n"
     ]
    }
   ],
   "source": [
    "b = np.arange(0, 1 - 1./3., 1./3.)\n",
    "print(\"b = \", b)"
   ]
  },
  {
   "cell_type": "markdown",
   "metadata": {
    "slideshow": {
     "slide_type": "subslide"
    }
   },
   "source": [
    "## Avoid equality test\n",
    "\n",
    "Equality test in floating point number is **always** a bad idea:\n",
    "* Mathematical equality often fails floating point equality test because of rounding errors \n",
    "* Often produce off-by-one number of loops when used to test end loop conditions\n",
    "\n",
    "It should become your instinct to:\n",
    "* always use error bound when comparing floating numbers, such as ```numpy.allclose()``` \n",
    "* try to use integer comparison as the end condition for loops\n",
    "  * integer representation and arithmetic in IEEE 754 is exact"
   ]
  },
  {
   "cell_type": "markdown",
   "metadata": {
    "slideshow": {
     "slide_type": "subslide"
    }
   },
   "source": [
    "## Catastrophic cancellation\n",
    "\n",
    "Dramatic loss of precision can happen when very similar numbers are subtracted\n",
    "\n",
    "* Value the following function around 0: \n",
    "\n",
    "$$f(x) = \\frac{1}{x^2}(1-\\cos(x))$$\n",
    "\n",
    " * Mathematically: $\\lim_{x\\rightarrow 0}f(x) = \\frac{1}{2}$"
   ]
  },
  {
   "cell_type": "markdown",
   "metadata": {
    "slideshow": {
     "slide_type": "subslide"
    }
   },
   "source": [
    "The straight forward implementation failed spectacularly for small $x$."
   ]
  },
  {
   "cell_type": "code",
   "execution_count": 21,
   "metadata": {
    "slideshow": {
     "slide_type": "-"
    }
   },
   "outputs": [
    {
     "data": {
      "image/png": "[encoded data removed]",
      "text/plain": [
       "<Figure size 432x288 with 1 Axes>"
      ]
     },
     "metadata": {
      "needs_background": "light"
     },
     "output_type": "display_data"
    }
   ],
   "source": [
    "def f(x) :\n",
    "    return (1.-np.cos(x))/x**2\n",
    "\n",
    "def g(x) :\n",
    "    return (np.sin(.5*x)**2*2)/x**2\n",
    "\n",
    "x = np.arange(-4e-8, 4e-8, 1e-9)\n",
    "df = pd.DataFrame(np.array([f(x), g(x)]).T, index=x, columns=['Numerical f(x)', 'True Value']);\n",
    "df.plot();"
   ]
  },
  {
   "cell_type": "markdown",
   "metadata": {
    "slideshow": {
     "slide_type": "subslide"
    }
   },
   "source": [
    "## How did it happen?"
   ]
  },
  {
   "cell_type": "code",
   "execution_count": 22,
   "metadata": {
    "slideshow": {
     "slide_type": "-"
    }
   },
   "outputs": [
    {
     "name": "stdout",
     "output_type": "stream",
     "text": [
      "cos(1.0999999999999999e-08) = 0.9999999999999999\n",
      "1-cos(1e-08) = 1.1102230246251565e-16\n",
      "true value of 1-cos(1e-08) = 6.0499999999999997e-17\n"
     ]
    }
   ],
   "source": [
    "x = 1.1e-8\n",
    "print(\"cos({:.16e}) = {:.16f}\".format(x, cos(x)))\n",
    "print(\"1-cos({:.0e}) = {:.16e}\".format(x, 1.-cos(x)))\n",
    "print(\"true value of 1-cos({:.0e}) = {:.16e}\".format(x, 2*sin(.5*x)**2))"
   ]
  },
  {
   "cell_type": "markdown",
   "metadata": {
    "slideshow": {
     "slide_type": "-"
    }
   },
   "source": [
    "* Dramatic precision loss when subtracting numbers that are very similar \n",
    " * Most leading significant digits cancel\n",
    " * The result has much fewer number of significant digits\n",
    "* Catastrophic cancellation could easily happen in practice \n",
    " * Deltas are often computed by bump and re-value\n",
    " * Very small bump sizes should be avoided"
   ]
  },
  {
   "cell_type": "markdown",
   "metadata": {
    "slideshow": {
     "slide_type": "subslide"
    }
   },
   "source": [
    "## A real example in Finance\n",
    "the CIR process is widely used in quant finance, eg, in the short rate and Heston model:\n",
    "\n",
    "$$ dr_t = \\kappa(\\mu - r) dt + \\sigma \\sqrt{r_t} dW_t\n",
    "$$\n",
    "\n",
    "the variance of $r_t$ at $t > 0$:\n",
    "\n",
    "$$\\text{Var}[r_t | r_0] = \\frac{r_0\\sigma^2}{\\kappa}(e^{-\\kappa t} - e^{-2\\kappa t}) + \\frac{\\mu\\sigma^2}{2\\kappa}(1-e^{-\\kappa t})^2$$\n",
    "\n",
    "how the catastrophic cancellation arises?"
   ]
  },
  {
   "cell_type": "code",
   "execution_count": 23,
   "metadata": {
    "slideshow": {
     "slide_type": "subslide"
    }
   },
   "outputs": [
    {
     "data": {
      "image/png": "[encoded data removed]",
      "text/plain": [
       "<Figure size 432x288 with 1 Axes>"
      ]
     },
     "metadata": {
      "needs_background": "light"
     },
     "output_type": "display_data"
    }
   ],
   "source": [
    "k = arange(-3e-8, 3e-8, 1e-9)*1e-7\n",
    "t = 1\n",
    "v = (1-exp(-k*t))/k\n",
    "plot(k, v, '.-')\n",
    "title(r'$\\frac{1}{\\kappa}(1-\\exp(-\\kappa))$')\n",
    "xlabel(r'$\\kappa$');"
   ]
  },
  {
   "cell_type": "code",
   "execution_count": 39,
   "metadata": {
    "slideshow": {
     "slide_type": "skip"
    }
   },
   "outputs": [
    {
     "data": {
      "image/png": "[encoded data removed]",
      "text/latex": [
       "$$1$$"
      ],
      "text/plain": [
       "1"
      ]
     },
     "execution_count": 39,
     "metadata": {},
     "output_type": "execute_result"
    }
   ],
   "source": [
    "import sympy as sp\n",
    "sp.init_printing(use_latex = True)\n",
    "\n",
    "k = sp.symbols(\"k\", positive = True)\n",
    "e = (1-sp.exp(-k))/k\n",
    "sp.limit(e, k, 0)"
   ]
  },
  {
   "cell_type": "code",
   "execution_count": 54,
   "metadata": {
    "slideshow": {
     "slide_type": "skip"
    }
   },
   "outputs": [
    {
     "data": {
      "image/png": "[encoded data removed]",
      "text/plain": [
       "<Figure size 432x288 with 1 Axes>"
      ]
     },
     "metadata": {
      "needs_background": "light"
     },
     "output_type": "display_data"
    }
   ],
   "source": [
    "import numpy as np\n",
    "\n",
    "def f(x):\n",
    "    return np.exp(x)\n",
    "\n",
    "def g(x):\n",
    "    return np.exp(x)\n",
    "\n",
    "def g2(x):\n",
    "    d = 1e-4\n",
    "    return (f(x+d) + f(x-d) - 2*f(x))/d/d\n",
    "\n",
    "x = 1.\n",
    "hs = 10.**np.arange(-12., -3., .05)\n",
    "\n",
    "fd = [(f(x+h)-f(x))/h for h in hs]\n",
    "fd2 = [.5*(f(x+h)-f(x-h))/h for h in hs]\n",
    "e1 = abs(fd - g(x))\n",
    "e2 = abs(fd2 - g(x))\n",
    "ho = sqrt(2.*f(x)*prec64/g2(x))\n",
    "\n",
    "loglog(hs, e1, '.-')\n",
    "loglog(hs, e2, '.-')\n",
    "axvline(x=ho, color='r')\n",
    "legend([\"Forward Difference\", \"Central Difference\", \"Optimal\"])\n",
    "xlabel(\"BumpSize\")\n",
    "ylabel(\"Error\");\n",
    "savefig(\"bumpsize.png\")"
   ]
  },
  {
   "cell_type": "markdown",
   "metadata": {
    "slideshow": {
     "slide_type": "subslide"
    }
   },
   "source": [
    "## Bump Size for Delta\n",
    "\n",
    "How to choose the $h$ so that the following finite difference approximation is the most accurate?\n",
    "\n",
    "$$ f'(x) \\approx \\frac{1}{h}(f(x+h) - f(x)) $$\n",
    "\n",
    "The best $h$ is when truncation error equals to the rounding error:\n",
    "\n",
    "$$ \\frac{1}{2} f''(x) h^2 = f(x) \\epsilon_m $$\n",
    "\n",
    "Thus the optimal $h^* = \\sqrt{\\frac{2 f(x)\\epsilon_m}{f''(x)}} $. \n",
    "\n",
    "It is however better off to simply use central difference:\n",
    "\n",
    "$$ f'(x) \\approx \\frac{1}{2h}\\left(f(x+h) - f(x-h)\\right) $$"
   ]
  },
  {
   "cell_type": "markdown",
   "metadata": {
    "slideshow": {
     "slide_type": "subslide"
    }
   },
   "source": [
    "## An Example of Numerical Delta\n",
    "\n",
    "For $f(x) = e^x$ at $x=1$:\n",
    "\n",
    "<center><img src = \"img/bumpsize.png\", height = 600, width = 600></center>"
   ]
  },
  {
   "cell_type": "markdown",
   "metadata": {
    "slideshow": {
     "slide_type": "subslide"
    }
   },
   "source": [
    "## Condition number\n",
    "Consider the relative error of a function with multiple arguments: $f = f(x_1, ..., x_n)$:\n",
    "\n",
    "$$\n",
    "\\small\n",
    "df = \\sum_i \\frac{\\partial f}{\\partial x_i} dx_i \\iff\n",
    "\\frac{df}{f} = \\sum_i \\frac{x_i}{f}\\frac{\\partial f}{\\partial x_i} \\frac{dx_i}{x_i}\n",
    "$$\n",
    "\n",
    "Assuming input argument's relative errors are $\\epsilon_i$ (could be negative):\n",
    "\n",
    "$$\n",
    "\\small\n",
    "\\left| \\frac{\\Delta f}{f} \\right| = \\left| \\sum_i \\frac{x_i}{f}\\frac{\\partial f}{\\partial x_i} \\epsilon_i \\right|\n",
    "\\le \\sum_i \\left| \\frac{x_i}{f}\\frac{\\partial f}{\\partial x_i} \\right| \\left|\\epsilon_i\\right| \\le \\sum_i \\left| \\frac{x_i}{f}\\frac{\\partial f}{\\partial x_i} \\right| \\epsilon_m \\equiv k(f) \\epsilon_m\n",
    "$$\n",
    "\n",
    "where $\\epsilon_m$ is the maximum relative error of all inputs. \n",
    "\n",
    "* $k(f) = \\sum_i \\left| \\frac{x_i}{f}\\frac{\\partial f}{\\partial x_i} \\right|$ is defined as the condition number of a function, \n",
    "* it is the maximum growth factor of the relative error.\n",
    "* the calculation loses about $\\log_{10}(k(f))$ decimal digits of accuracy."
   ]
  },
  {
   "cell_type": "markdown",
   "metadata": {
    "slideshow": {
     "slide_type": "subslide"
    }
   },
   "source": [
    " ## Well-posed and ill-posed problems\n",
    " \n",
    " Condition number is the systematic approach to detect potential numerical problems:\n",
    " \n",
    " * $f(x_1, x_2) = x_1 - x_2$ \n",
    " \n",
    "   $k(f) = \\frac{|x_1| + |x_2|}{|x_1 - x_2|}$, ill conditioned when $x_1 \\approx x_2$, catastrophic cancellation\n",
    "   \n",
    " * $f(x_1, x_2) = x_1 x_2$ \n",
    " \n",
    "   $k(f) = 2$, the multiplication is well conditioned\n",
    "  \n",
    "The problem is ill-posed if its condition number is large.\n",
    "\n",
    "* In practice, it is impossible to run condition number analysis over complicated calculations:\n",
    "* We have to rely upon monitoring and testing"
   ]
  },
  {
   "cell_type": "markdown",
   "metadata": {
    "slideshow": {
     "slide_type": "subslide"
    }
   },
   "source": [
    "## Well-posed problem can be unstable\n",
    "\n",
    "Consider the previous example of $f(x) = \\frac{1}{x^2}(1-\\cos(x))$:\n",
    "\n",
    "$$\n",
    "k(f) = \\left| 2 + \\frac{x \\sin{\\left (x \\right )}}{\\cos{\\left (x \\right )} - 1}  \\right|\n",
    "$$\n",
    "\n",
    " * $k(f) \\rightarrow \\infty$ near $x = 2\\pi$, it is ill-posed near $x = 2\\pi$ due to catastrophic cancellation.\n",
    " * $k(f) \\rightarrow 0$ near $x = 0$, it is well-posed near $x = 0$.\n",
    "\n",
    "The numerical algorithm can be unstable even if the problem itself is well-posed.\n",
    " * A better algorithm near $x=0$ is $f(x) = \\frac{2}{x^2}\\sin^2(\\frac{x}{2})$ \n",
    " \n",
    "But an ill-posed problem is always numerically unstable by definition.\n",
    "* Direct numerical calculation is unstable around $x = 2\\pi$\n",
    "* Does this help? $f(x) \\approx \\frac{1}{2x^2}(x-2\\pi)^2$"
   ]
  },
  {
   "cell_type": "code",
   "execution_count": 26,
   "metadata": {
    "slideshow": {
     "slide_type": "skip"
    }
   },
   "outputs": [
    {
     "data": {
      "image/png": "[encoded data removed]",
      "text/latex": [
       "$$2 \\sin^{2}{\\left (x \\right )}$$"
      ],
      "text/plain": [
       "     2   \n",
       "2⋅sin (x)"
      ]
     },
     "execution_count": 26,
     "metadata": {},
     "output_type": "execute_result"
    }
   ],
   "source": [
    "x, k = sp.symbols('x, k', real = True)\n",
    "f = (1-sp.cos(x))/x**2\n",
    "k = sp.simplify(f.diff(x)*x/f)\n",
    "sp.limit(k, x, 0)\n",
    "sp.simplify(1-sp.cos(2*x))"
   ]
  },
  {
   "cell_type": "markdown",
   "metadata": {
    "slideshow": {
     "slide_type": "subslide"
    }
   },
   "source": [
    "# Ill-posed numerical algorithm\n",
    "\n",
    "Ill-posed problem are generally not suitable for numerical solutions.\n",
    "\n",
    "The Mandelbrot set is a famous example:\n",
    "\n",
    "* defined an iterative algorithm in complex number: $z_{i+1} = z_i^2 + c$\n",
    "* the color of $z_0$ is tied to the number of iterations for $|z_i|$ to go above a threshold\n",
    "* obviously unstable because of the iterative additions\n",
    "* showing exquisite details of numerical instability"
   ]
  },
  {
   "cell_type": "markdown",
   "metadata": {},
   "source": [
    "<center><img src = \"img/mandelbrot.jpg\", height = 400, width = 400></center>"
   ]
  },
  {
   "cell_type": "markdown",
   "metadata": {
    "slideshow": {
     "slide_type": "subslide"
    }
   },
   "source": [
    "## Rules of engagement for floats\n",
    "* Always allow errors when comparing numbers\n",
    "* Use double precision floating point number by default \n",
    " * unless you know what you are doing (really?)\n",
    "* Avoid adding and subtracting numbers of very different magnitudes\n",
    " * avoid using very small bump sizes when computing delta\n",
    "* Take care of the limits, especially around 0\n",
    " * many (careless) numerical implementations broke down around 0\n",
    "* Use well designed numerical libraries whenever possible\n",
    " * Even simple numerical algorithm can have spectacular pitfalls\n",
    "* Test and monitor"
   ]
  },
  {
   "cell_type": "markdown",
   "metadata": {
    "slideshow": {
     "slide_type": "subslide"
    }
   },
   "source": [
    "## Portability\n",
    "\n",
    "* Floating point computation is usually not reproducible across different platforms\n",
    "* Same code will produce different results with different compiler and hardware\n",
    " * The difference can be significant in optimization and iterative methods\n",
    "* Design your unit test to be cross platform by giving enough error allowance\n",
    "* Test and monitoring are critical"
   ]
  },
  {
   "cell_type": "markdown",
   "metadata": {
    "slideshow": {
     "slide_type": "slide"
    }
   },
   "source": [
    "## Assignments\n",
    "\n",
    "Required Reading:\n",
    "\n",
    "* Bindel and Goodman: Chapter 2\n",
    "\n",
    "Recommended Reading:\n",
    "\n",
    "* Review linear algebra (any elementary linear algebra book)\n",
    "* Andersen and Piterbarg: Chapter 1\n",
    "\n",
    "Homework\n",
    "\n",
    "* Setup your python environment following the instructions at: http://yadongli.github.io/nyumath2048/\n",
    "* Bindel and Goodman: Problem: 2.8\n",
    "* Complete [Homework Set 1](http://yadongli.github.io/nyumath2048/)"
   ]
  }
 ],
 "metadata": {
  "celltoolbar": "Slideshow",
  "kernelspec": {
   "display_name": "Python 3",
   "language": "python",
   "name": "python3"
  },
  "language_info": {
   "codemirror_mode": {
    "name": "ipython",
    "version": 3
   },
   "file_extension": ".py",
   "mimetype": "text/x-python",
   "name": "python",
   "nbconvert_exporter": "python",
   "pygments_lexer": "ipython3",
   "version": "3.6.7"
  }
 },
 "nbformat": 4,
 "nbformat_minor": 1
}
